{
 "cells": [
  {
   "cell_type": "code",
   "execution_count": 4,
   "id": "0a02aff0-9b3c-46b6-ad69-309ab1f3943a",
   "metadata": {},
   "outputs": [
    {
     "data": {
      "text/plain": [
       "(56065, 14)"
      ]
     },
     "execution_count": 4,
     "metadata": {},
     "output_type": "execute_result"
    }
   ],
   "source": [
    "import pandas as pd\n",
    "df = pd.read_csv('vgsales.csv')\n",
    "df.shape"
   ]
  },
  {
   "cell_type": "code",
   "execution_count": 6,
   "id": "d656fd38-7206-49ce-b2f0-44684f22d8f8",
   "metadata": {},
   "outputs": [
    {
     "data": {
      "text/plain": [
       "array([[0, 11, 'The Sims', ..., nan, nan, nan],\n",
       "       [1, 12, 'Final Fantasy', ..., nan, nan, nan],\n",
       "       [2, 13, 'Grand Theft Auto V', ..., nan, nan, nan],\n",
       "       ...,\n",
       "       [61845, 62476, 'Zone of the Enders: The 2nd Runner MARS', ...,\n",
       "        nan, nan, nan],\n",
       "       [61846, 62477, 'Zoo Tycoon: Ultimate Animal Collection', ..., nan,\n",
       "        nan, nan],\n",
       "       [61847, 62478, 'Zoo Tycoon: Ultimate Animal Collection', ..., nan,\n",
       "        nan, nan]], dtype=object)"
      ]
     },
     "execution_count": 6,
     "metadata": {},
     "output_type": "execute_result"
    }
   ],
   "source": [
    "df.values"
   ]
  },
  {
   "cell_type": "code",
   "execution_count": 8,
   "id": "103bbfcb-2b22-4012-a4ce-6159c5c4c2fe",
   "metadata": {},
   "outputs": [
    {
     "data": {
      "text/html": [
       "<div>\n",
       "<style scoped>\n",
       "    .dataframe tbody tr th:only-of-type {\n",
       "        vertical-align: middle;\n",
       "    }\n",
       "\n",
       "    .dataframe tbody tr th {\n",
       "        vertical-align: top;\n",
       "    }\n",
       "\n",
       "    .dataframe thead th {\n",
       "        text-align: right;\n",
       "    }\n",
       "</style>\n",
       "<table border=\"1\" class=\"dataframe\">\n",
       "  <thead>\n",
       "    <tr style=\"text-align: right;\">\n",
       "      <th></th>\n",
       "      <th>Unnamed: 0</th>\n",
       "      <th>Rank</th>\n",
       "      <th>Year</th>\n",
       "      <th>Critic_Score</th>\n",
       "      <th>User_Score</th>\n",
       "      <th>NA_Sales</th>\n",
       "      <th>PAL_Sales</th>\n",
       "      <th>JP_Sales</th>\n",
       "      <th>Other_Sales</th>\n",
       "      <th>Global_Sales</th>\n",
       "    </tr>\n",
       "  </thead>\n",
       "  <tbody>\n",
       "    <tr>\n",
       "      <th>count</th>\n",
       "      <td>56065.000000</td>\n",
       "      <td>56065.000000</td>\n",
       "      <td>56065.000000</td>\n",
       "      <td>6455.000000</td>\n",
       "      <td>389.000000</td>\n",
       "      <td>13478.000000</td>\n",
       "      <td>13812.000000</td>\n",
       "      <td>7554.000000</td>\n",
       "      <td>16126.000000</td>\n",
       "      <td>19984.000000</td>\n",
       "    </tr>\n",
       "    <tr>\n",
       "      <th>mean</th>\n",
       "      <td>29224.326710</td>\n",
       "      <td>29525.544493</td>\n",
       "      <td>2006.340373</td>\n",
       "      <td>7.214779</td>\n",
       "      <td>8.110797</td>\n",
       "      <td>0.346277</td>\n",
       "      <td>0.193516</td>\n",
       "      <td>0.181598</td>\n",
       "      <td>0.053852</td>\n",
       "      <td>0.479639</td>\n",
       "    </tr>\n",
       "    <tr>\n",
       "      <th>std</th>\n",
       "      <td>17166.742642</td>\n",
       "      <td>17340.117752</td>\n",
       "      <td>8.528714</td>\n",
       "      <td>1.455920</td>\n",
       "      <td>1.624565</td>\n",
       "      <td>0.909943</td>\n",
       "      <td>0.587698</td>\n",
       "      <td>0.447733</td>\n",
       "      <td>0.197016</td>\n",
       "      <td>1.480785</td>\n",
       "    </tr>\n",
       "    <tr>\n",
       "      <th>min</th>\n",
       "      <td>0.000000</td>\n",
       "      <td>11.000000</td>\n",
       "      <td>1980.000000</td>\n",
       "      <td>1.000000</td>\n",
       "      <td>1.000000</td>\n",
       "      <td>0.000000</td>\n",
       "      <td>0.000000</td>\n",
       "      <td>0.000000</td>\n",
       "      <td>0.000000</td>\n",
       "      <td>0.000000</td>\n",
       "    </tr>\n",
       "    <tr>\n",
       "      <th>25%</th>\n",
       "      <td>14482.000000</td>\n",
       "      <td>14633.000000</td>\n",
       "      <td>2001.000000</td>\n",
       "      <td>6.400000</td>\n",
       "      <td>7.500000</td>\n",
       "      <td>0.050000</td>\n",
       "      <td>0.010000</td>\n",
       "      <td>0.020000</td>\n",
       "      <td>0.000000</td>\n",
       "      <td>0.040000</td>\n",
       "    </tr>\n",
       "    <tr>\n",
       "      <th>50%</th>\n",
       "      <td>28959.000000</td>\n",
       "      <td>29260.000000</td>\n",
       "      <td>2008.000000</td>\n",
       "      <td>7.500000</td>\n",
       "      <td>8.500000</td>\n",
       "      <td>0.130000</td>\n",
       "      <td>0.040000</td>\n",
       "      <td>0.050000</td>\n",
       "      <td>0.010000</td>\n",
       "      <td>0.130000</td>\n",
       "    </tr>\n",
       "    <tr>\n",
       "      <th>75%</th>\n",
       "      <td>43772.000000</td>\n",
       "      <td>44223.000000</td>\n",
       "      <td>2012.000000</td>\n",
       "      <td>8.300000</td>\n",
       "      <td>9.100000</td>\n",
       "      <td>0.320000</td>\n",
       "      <td>0.160000</td>\n",
       "      <td>0.160000</td>\n",
       "      <td>0.040000</td>\n",
       "      <td>0.410000</td>\n",
       "    </tr>\n",
       "    <tr>\n",
       "      <th>max</th>\n",
       "      <td>61847.000000</td>\n",
       "      <td>62478.000000</td>\n",
       "      <td>2022.000000</td>\n",
       "      <td>10.000000</td>\n",
       "      <td>10.000000</td>\n",
       "      <td>41.360000</td>\n",
       "      <td>29.020000</td>\n",
       "      <td>10.220000</td>\n",
       "      <td>10.570000</td>\n",
       "      <td>82.650000</td>\n",
       "    </tr>\n",
       "  </tbody>\n",
       "</table>\n",
       "</div>"
      ],
      "text/plain": [
       "         Unnamed: 0          Rank          Year  Critic_Score  User_Score  \\\n",
       "count  56065.000000  56065.000000  56065.000000   6455.000000  389.000000   \n",
       "mean   29224.326710  29525.544493   2006.340373      7.214779    8.110797   \n",
       "std    17166.742642  17340.117752      8.528714      1.455920    1.624565   \n",
       "min        0.000000     11.000000   1980.000000      1.000000    1.000000   \n",
       "25%    14482.000000  14633.000000   2001.000000      6.400000    7.500000   \n",
       "50%    28959.000000  29260.000000   2008.000000      7.500000    8.500000   \n",
       "75%    43772.000000  44223.000000   2012.000000      8.300000    9.100000   \n",
       "max    61847.000000  62478.000000   2022.000000     10.000000   10.000000   \n",
       "\n",
       "           NA_Sales     PAL_Sales     JP_Sales   Other_Sales  Global_Sales  \n",
       "count  13478.000000  13812.000000  7554.000000  16126.000000  19984.000000  \n",
       "mean       0.346277      0.193516     0.181598      0.053852      0.479639  \n",
       "std        0.909943      0.587698     0.447733      0.197016      1.480785  \n",
       "min        0.000000      0.000000     0.000000      0.000000      0.000000  \n",
       "25%        0.050000      0.010000     0.020000      0.000000      0.040000  \n",
       "50%        0.130000      0.040000     0.050000      0.010000      0.130000  \n",
       "75%        0.320000      0.160000     0.160000      0.040000      0.410000  \n",
       "max       41.360000     29.020000    10.220000     10.570000     82.650000  "
      ]
     },
     "execution_count": 8,
     "metadata": {},
     "output_type": "execute_result"
    }
   ],
   "source": [
    "df.describe()"
   ]
  },
  {
   "cell_type": "code",
   "execution_count": null,
   "id": "b4ac8e00-d330-4958-ba37-1112d6dd0452",
   "metadata": {},
   "outputs": [],
   "source": []
  }
 ],
 "metadata": {
  "kernelspec": {
   "display_name": "Python 3 (ipykernel)",
   "language": "python",
   "name": "python3"
  },
  "language_info": {
   "codemirror_mode": {
    "name": "ipython",
    "version": 3
   },
   "file_extension": ".py",
   "mimetype": "text/x-python",
   "name": "python",
   "nbconvert_exporter": "python",
   "pygments_lexer": "ipython3",
   "version": "3.11.7"
  }
 },
 "nbformat": 4,
 "nbformat_minor": 5
}
