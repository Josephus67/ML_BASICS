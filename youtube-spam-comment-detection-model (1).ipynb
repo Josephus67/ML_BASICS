{
 "cells": [
  {
   "cell_type": "markdown",
   "id": "3ad22bdd",
   "metadata": {
    "papermill": {
     "duration": 0.005753,
     "end_time": "2024-08-25T19:35:27.415157",
     "exception": false,
     "start_time": "2024-08-25T19:35:27.409404",
     "status": "completed"
    },
    "tags": []
   },
   "source": [
    "Spam comments on YouTube videos are not just annoying; they can also skew engagement metrics and mislead viewers. This dataset provides an opportunity to delve into the nature of these spam comments and potentially build a model to predict them. If you find this notebook useful, please consider upvoting it."
   ]
  },
  {
   "cell_type": "code",
   "execution_count": 1,
   "id": "65fa3f33",
   "metadata": {
    "execution": {
     "iopub.execute_input": "2024-08-25T19:35:27.427170Z",
     "iopub.status.busy": "2024-08-25T19:35:27.426737Z",
     "iopub.status.idle": "2024-08-25T19:35:27.436316Z",
     "shell.execute_reply": "2024-08-25T19:35:27.435272Z"
    },
    "papermill": {
     "duration": 0.017981,
     "end_time": "2024-08-25T19:35:27.438305",
     "exception": false,
     "start_time": "2024-08-25T19:35:27.420324",
     "status": "completed"
    },
    "tags": []
   },
   "outputs": [],
   "source": [
    "# Suppress warnings\n",
    "import warnings\n",
    "warnings.filterwarnings('ignore')"
   ]
  },
  {
   "cell_type": "code",
   "execution_count": 2,
   "id": "a5d65982",
   "metadata": {
    "execution": {
     "iopub.execute_input": "2024-08-25T19:35:27.449959Z",
     "iopub.status.busy": "2024-08-25T19:35:27.449583Z",
     "iopub.status.idle": "2024-08-25T19:35:30.014918Z",
     "shell.execute_reply": "2024-08-25T19:35:30.013849Z"
    },
    "papermill": {
     "duration": 2.573894,
     "end_time": "2024-08-25T19:35:30.017364",
     "exception": false,
     "start_time": "2024-08-25T19:35:27.443470",
     "status": "completed"
    },
    "tags": []
   },
   "outputs": [],
   "source": [
    "# Import necessary libraries\n",
    "import pandas as pd\n",
    "import numpy as np\n",
    "import matplotlib.pyplot as plt\n",
    "import seaborn as sns\n",
    "from sklearn.model_selection import train_test_split\n",
    "from sklearn.feature_extraction.text import TfidfVectorizer\n",
    "from sklearn.linear_model import LogisticRegression\n",
    "from sklearn.metrics import accuracy_score, confusion_matrix, classification_report"
   ]
  },
  {
   "cell_type": "code",
   "execution_count": 3,
   "id": "e5f51922",
   "metadata": {
    "execution": {
     "iopub.execute_input": "2024-08-25T19:35:30.029870Z",
     "iopub.status.busy": "2024-08-25T19:35:30.029261Z",
     "iopub.status.idle": "2024-08-25T19:35:30.072671Z",
     "shell.execute_reply": "2024-08-25T19:35:30.071566Z"
    },
    "papermill": {
     "duration": 0.05264,
     "end_time": "2024-08-25T19:35:30.075359",
     "exception": false,
     "start_time": "2024-08-25T19:35:30.022719",
     "status": "completed"
    },
    "tags": []
   },
   "outputs": [],
   "source": [
    "# Load the dataset\n",
    "file_path = '/kaggle/input/youtube-comments-spam-dataset/Youtube-Spam-Dataset.csv'\n",
    "df = pd.read_csv(file_path)"
   ]
  },
  {
   "cell_type": "markdown",
   "id": "548d2197",
   "metadata": {
    "papermill": {
     "duration": 0.004907,
     "end_time": "2024-08-25T19:35:30.085715",
     "exception": false,
     "start_time": "2024-08-25T19:35:30.080808",
     "status": "completed"
    },
    "tags": []
   },
   "source": [
    "### Initial Exploration"
   ]
  },
  {
   "cell_type": "code",
   "execution_count": 4,
   "id": "bb72f3f6",
   "metadata": {
    "execution": {
     "iopub.execute_input": "2024-08-25T19:35:30.097918Z",
     "iopub.status.busy": "2024-08-25T19:35:30.097487Z",
     "iopub.status.idle": "2024-08-25T19:35:30.119211Z",
     "shell.execute_reply": "2024-08-25T19:35:30.118204Z"
    },
    "papermill": {
     "duration": 0.030499,
     "end_time": "2024-08-25T19:35:30.121481",
     "exception": false,
     "start_time": "2024-08-25T19:35:30.090982",
     "status": "completed"
    },
    "tags": []
   },
   "outputs": [
    {
     "data": {
      "text/html": [
       "<div>\n",
       "<style scoped>\n",
       "    .dataframe tbody tr th:only-of-type {\n",
       "        vertical-align: middle;\n",
       "    }\n",
       "\n",
       "    .dataframe tbody tr th {\n",
       "        vertical-align: top;\n",
       "    }\n",
       "\n",
       "    .dataframe thead th {\n",
       "        text-align: right;\n",
       "    }\n",
       "</style>\n",
       "<table border=\"1\" class=\"dataframe\">\n",
       "  <thead>\n",
       "    <tr style=\"text-align: right;\">\n",
       "      <th></th>\n",
       "      <th>COMMENT_ID</th>\n",
       "      <th>AUTHOR</th>\n",
       "      <th>DATE</th>\n",
       "      <th>CONTENT</th>\n",
       "      <th>VIDEO_NAME</th>\n",
       "      <th>CLASS</th>\n",
       "    </tr>\n",
       "  </thead>\n",
       "  <tbody>\n",
       "    <tr>\n",
       "      <th>0</th>\n",
       "      <td>LZQPQhLyRh80UYxNuaDWhIGQYNQ96IuCg-AYWqNPjpU</td>\n",
       "      <td>Julius NM</td>\n",
       "      <td>2013-11-07T06:20:48</td>\n",
       "      <td>Huh, anyway check out this you[tube] channel: ...</td>\n",
       "      <td>PSY - GANGNAM STYLE(?????) M/V</td>\n",
       "      <td>1</td>\n",
       "    </tr>\n",
       "    <tr>\n",
       "      <th>1</th>\n",
       "      <td>LZQPQhLyRh_C2cTtd9MvFRJedxydaVW-2sNg5Diuo4A</td>\n",
       "      <td>adam riyati</td>\n",
       "      <td>2013-11-07T12:37:15</td>\n",
       "      <td>Hey guys check out my new channel and our firs...</td>\n",
       "      <td>PSY - GANGNAM STYLE(?????) M/V</td>\n",
       "      <td>1</td>\n",
       "    </tr>\n",
       "    <tr>\n",
       "      <th>2</th>\n",
       "      <td>LZQPQhLyRh9MSZYnf8djyk0gEF9BHDPYrrK-qCczIY8</td>\n",
       "      <td>Evgeny Murashkin</td>\n",
       "      <td>2013-11-08T17:34:21</td>\n",
       "      <td>just for test I have to say murdev.com</td>\n",
       "      <td>PSY - GANGNAM STYLE(?????) M/V</td>\n",
       "      <td>1</td>\n",
       "    </tr>\n",
       "    <tr>\n",
       "      <th>3</th>\n",
       "      <td>z13jhp0bxqncu512g22wvzkasxmvvzjaz04</td>\n",
       "      <td>ElNino Melendez</td>\n",
       "      <td>2013-11-09T08:28:43</td>\n",
       "      <td>me shaking my sexy ass on my channel enjoy ^_^ ﻿</td>\n",
       "      <td>PSY - GANGNAM STYLE(?????) M/V</td>\n",
       "      <td>1</td>\n",
       "    </tr>\n",
       "    <tr>\n",
       "      <th>4</th>\n",
       "      <td>z13fwbwp1oujthgqj04chlngpvzmtt3r3dw</td>\n",
       "      <td>GsMega</td>\n",
       "      <td>2013-11-10T16:05:38</td>\n",
       "      <td>watch?v=vtaRGgvGtWQ   Check this out .﻿</td>\n",
       "      <td>PSY - GANGNAM STYLE(?????) M/V</td>\n",
       "      <td>1</td>\n",
       "    </tr>\n",
       "  </tbody>\n",
       "</table>\n",
       "</div>"
      ],
      "text/plain": [
       "                                    COMMENT_ID            AUTHOR  \\\n",
       "0  LZQPQhLyRh80UYxNuaDWhIGQYNQ96IuCg-AYWqNPjpU         Julius NM   \n",
       "1  LZQPQhLyRh_C2cTtd9MvFRJedxydaVW-2sNg5Diuo4A       adam riyati   \n",
       "2  LZQPQhLyRh9MSZYnf8djyk0gEF9BHDPYrrK-qCczIY8  Evgeny Murashkin   \n",
       "3          z13jhp0bxqncu512g22wvzkasxmvvzjaz04   ElNino Melendez   \n",
       "4          z13fwbwp1oujthgqj04chlngpvzmtt3r3dw            GsMega   \n",
       "\n",
       "                  DATE                                            CONTENT  \\\n",
       "0  2013-11-07T06:20:48  Huh, anyway check out this you[tube] channel: ...   \n",
       "1  2013-11-07T12:37:15  Hey guys check out my new channel and our firs...   \n",
       "2  2013-11-08T17:34:21             just for test I have to say murdev.com   \n",
       "3  2013-11-09T08:28:43   me shaking my sexy ass on my channel enjoy ^_^ ﻿   \n",
       "4  2013-11-10T16:05:38            watch?v=vtaRGgvGtWQ   Check this out .﻿   \n",
       "\n",
       "                       VIDEO_NAME  CLASS  \n",
       "0  PSY - GANGNAM STYLE(?????) M/V      1  \n",
       "1  PSY - GANGNAM STYLE(?????) M/V      1  \n",
       "2  PSY - GANGNAM STYLE(?????) M/V      1  \n",
       "3  PSY - GANGNAM STYLE(?????) M/V      1  \n",
       "4  PSY - GANGNAM STYLE(?????) M/V      1  "
      ]
     },
     "execution_count": 4,
     "metadata": {},
     "output_type": "execute_result"
    }
   ],
   "source": [
    "# Display the first few rows of the dataset\n",
    "df.head()"
   ]
  },
  {
   "cell_type": "markdown",
   "id": "ba7d56b5",
   "metadata": {
    "papermill": {
     "duration": 0.00538,
     "end_time": "2024-08-25T19:35:30.132499",
     "exception": false,
     "start_time": "2024-08-25T19:35:30.127119",
     "status": "completed"
    },
    "tags": []
   },
   "source": [
    "### Data Cleaning and Preprocessing"
   ]
  },
  {
   "cell_type": "code",
   "execution_count": 5,
   "id": "c5b1dd5b",
   "metadata": {
    "execution": {
     "iopub.execute_input": "2024-08-25T19:35:30.145231Z",
     "iopub.status.busy": "2024-08-25T19:35:30.144543Z",
     "iopub.status.idle": "2024-08-25T19:35:30.154698Z",
     "shell.execute_reply": "2024-08-25T19:35:30.153673Z"
    },
    "papermill": {
     "duration": 0.018853,
     "end_time": "2024-08-25T19:35:30.156752",
     "exception": false,
     "start_time": "2024-08-25T19:35:30.137899",
     "status": "completed"
    },
    "tags": []
   },
   "outputs": [
    {
     "data": {
      "text/plain": [
       "COMMENT_ID      0\n",
       "AUTHOR          0\n",
       "DATE          245\n",
       "CONTENT         0\n",
       "VIDEO_NAME      0\n",
       "CLASS           0\n",
       "dtype: int64"
      ]
     },
     "execution_count": 5,
     "metadata": {},
     "output_type": "execute_result"
    }
   ],
   "source": [
    "# Check for missing values\n",
    "df.isnull().sum()"
   ]
  },
  {
   "cell_type": "code",
   "execution_count": 6,
   "id": "bcbe1931",
   "metadata": {
    "execution": {
     "iopub.execute_input": "2024-08-25T19:35:30.170068Z",
     "iopub.status.busy": "2024-08-25T19:35:30.169325Z",
     "iopub.status.idle": "2024-08-25T19:35:30.179547Z",
     "shell.execute_reply": "2024-08-25T19:35:30.178642Z"
    },
    "papermill": {
     "duration": 0.019295,
     "end_time": "2024-08-25T19:35:30.181813",
     "exception": false,
     "start_time": "2024-08-25T19:35:30.162518",
     "status": "completed"
    },
    "tags": []
   },
   "outputs": [],
   "source": [
    "# Drop rows with missing values\n",
    "df.dropna(inplace=True)"
   ]
  },
  {
   "cell_type": "markdown",
   "id": "b1120d28",
   "metadata": {
    "papermill": {
     "duration": 0.005605,
     "end_time": "2024-08-25T19:35:30.193191",
     "exception": false,
     "start_time": "2024-08-25T19:35:30.187586",
     "status": "completed"
    },
    "tags": []
   },
   "source": [
    "### Exploratory Data Analysis"
   ]
  },
  {
   "cell_type": "code",
   "execution_count": 7,
   "id": "57f86919",
   "metadata": {
    "execution": {
     "iopub.execute_input": "2024-08-25T19:35:30.206449Z",
     "iopub.status.busy": "2024-08-25T19:35:30.205663Z",
     "iopub.status.idle": "2024-08-25T19:35:30.424729Z",
     "shell.execute_reply": "2024-08-25T19:35:30.423724Z"
    },
    "papermill": {
     "duration": 0.228109,
     "end_time": "2024-08-25T19:35:30.426975",
     "exception": false,
     "start_time": "2024-08-25T19:35:30.198866",
     "status": "completed"
    },
    "tags": []
   },
   "outputs": [
    {
     "data": {
      "image/png": "[encoded data removed]",
      "text/plain": [
       "<Figure size 600x400 with 1 Axes>"
      ]
     },
     "metadata": {},
     "output_type": "display_data"
    }
   ],
   "source": [
    "# Distribution of spam vs non-spam comments\n",
    "plt.figure(figsize=(6,4))\n",
    "sns.countplot(x='CLASS', data=df)\n",
    "plt.title('Distribution of Spam vs Non-Spam Comments')\n",
    "plt.xlabel('Class (0: Non-Spam, 1: Spam)')\n",
    "plt.ylabel('Count')\n",
    "plt.show()"
   ]
  },
  {
   "cell_type": "markdown",
   "id": "b99e317a",
   "metadata": {
    "papermill": {
     "duration": 0.005965,
     "end_time": "2024-08-25T19:35:30.439365",
     "exception": false,
     "start_time": "2024-08-25T19:35:30.433400",
     "status": "completed"
    },
    "tags": []
   },
   "source": [
    "### Feature Engineering"
   ]
  },
  {
   "cell_type": "code",
   "execution_count": 8,
   "id": "7f9004a1",
   "metadata": {
    "execution": {
     "iopub.execute_input": "2024-08-25T19:35:30.453770Z",
     "iopub.status.busy": "2024-08-25T19:35:30.452811Z",
     "iopub.status.idle": "2024-08-25T19:35:30.465503Z",
     "shell.execute_reply": "2024-08-25T19:35:30.464337Z"
    },
    "papermill": {
     "duration": 0.022228,
     "end_time": "2024-08-25T19:35:30.467628",
     "exception": false,
     "start_time": "2024-08-25T19:35:30.445400",
     "status": "completed"
    },
    "tags": []
   },
   "outputs": [],
   "source": [
    "# Convert the 'DATE' column to datetime\n",
    "df['DATE'] = pd.to_datetime(df['DATE'], errors='coerce')"
   ]
  },
  {
   "cell_type": "code",
   "execution_count": 9,
   "id": "b91573a5",
   "metadata": {
    "execution": {
     "iopub.execute_input": "2024-08-25T19:35:30.482076Z",
     "iopub.status.busy": "2024-08-25T19:35:30.481662Z",
     "iopub.status.idle": "2024-08-25T19:35:30.491388Z",
     "shell.execute_reply": "2024-08-25T19:35:30.490472Z"
    },
    "papermill": {
     "duration": 0.01942,
     "end_time": "2024-08-25T19:35:30.493500",
     "exception": false,
     "start_time": "2024-08-25T19:35:30.474080",
     "status": "completed"
    },
    "tags": []
   },
   "outputs": [],
   "source": [
    "# Extract features from the 'DATE' column\n",
    "df['YEAR'] = df['DATE'].dt.year\n",
    "df['MONTH'] = df['DATE'].dt.month\n",
    "df['DAY'] = df['DATE'].dt.day\n",
    "df['HOUR'] = df['DATE'].dt.hour"
   ]
  },
  {
   "cell_type": "markdown",
   "id": "622cff1c",
   "metadata": {
    "papermill": {
     "duration": 0.006076,
     "end_time": "2024-08-25T19:35:30.505958",
     "exception": false,
     "start_time": "2024-08-25T19:35:30.499882",
     "status": "completed"
    },
    "tags": []
   },
   "source": [
    "### Correlation Analysis"
   ]
  },
  {
   "cell_type": "code",
   "execution_count": 10,
   "id": "5a0e9407",
   "metadata": {
    "execution": {
     "iopub.execute_input": "2024-08-25T19:35:30.520232Z",
     "iopub.status.busy": "2024-08-25T19:35:30.519831Z",
     "iopub.status.idle": "2024-08-25T19:35:30.881328Z",
     "shell.execute_reply": "2024-08-25T19:35:30.880258Z"
    },
    "papermill": {
     "duration": 0.371657,
     "end_time": "2024-08-25T19:35:30.883854",
     "exception": false,
     "start_time": "2024-08-25T19:35:30.512197",
     "status": "completed"
    },
    "tags": []
   },
   "outputs": [
    {
     "data": {
      "image/png": "[encoded data removed]",
      "text/plain": [
       "<Figure size 1000x800 with 2 Axes>"
      ]
     },
     "metadata": {},
     "output_type": "display_data"
    }
   ],
   "source": [
    "# Select only numeric columns for correlation analysis\n",
    "numeric_df = df.select_dtypes(include=[np.number])\n",
    "plt.figure(figsize=(10,8))\n",
    "sns.heatmap(numeric_df.corr(), annot=True, cmap='coolwarm', fmt='.2f')\n",
    "plt.title('Correlation Heatmap')\n",
    "plt.show()"
   ]
  },
  {
   "cell_type": "markdown",
   "id": "635b12ae",
   "metadata": {
    "papermill": {
     "duration": 0.006717,
     "end_time": "2024-08-25T19:35:30.897764",
     "exception": false,
     "start_time": "2024-08-25T19:35:30.891047",
     "status": "completed"
    },
    "tags": []
   },
   "source": [
    "### Text Vectorization"
   ]
  },
  {
   "cell_type": "code",
   "execution_count": 11,
   "id": "2eac2543",
   "metadata": {
    "execution": {
     "iopub.execute_input": "2024-08-25T19:35:30.913631Z",
     "iopub.status.busy": "2024-08-25T19:35:30.913220Z",
     "iopub.status.idle": "2024-08-25T19:35:30.964570Z",
     "shell.execute_reply": "2024-08-25T19:35:30.963397Z"
    },
    "papermill": {
     "duration": 0.062264,
     "end_time": "2024-08-25T19:35:30.966992",
     "exception": false,
     "start_time": "2024-08-25T19:35:30.904728",
     "status": "completed"
    },
    "tags": []
   },
   "outputs": [],
   "source": [
    "# Vectorize the 'CONTENT' column using TF-IDF\n",
    "tfidf = TfidfVectorizer(stop_words='english', max_features=1000)\n",
    "X = tfidf.fit_transform(df['CONTENT'])\n",
    "y = df['CLASS']"
   ]
  },
  {
   "cell_type": "markdown",
   "id": "57f39e3b",
   "metadata": {
    "papermill": {
     "duration": 0.006958,
     "end_time": "2024-08-25T19:35:30.981252",
     "exception": false,
     "start_time": "2024-08-25T19:35:30.974294",
     "status": "completed"
    },
    "tags": []
   },
   "source": [
    "### Model Building"
   ]
  },
  {
   "cell_type": "code",
   "execution_count": 12,
   "id": "9b9db190",
   "metadata": {
    "execution": {
     "iopub.execute_input": "2024-08-25T19:35:30.997274Z",
     "iopub.status.busy": "2024-08-25T19:35:30.996869Z",
     "iopub.status.idle": "2024-08-25T19:35:31.005381Z",
     "shell.execute_reply": "2024-08-25T19:35:31.004541Z"
    },
    "papermill": {
     "duration": 0.019058,
     "end_time": "2024-08-25T19:35:31.007391",
     "exception": false,
     "start_time": "2024-08-25T19:35:30.988333",
     "status": "completed"
    },
    "tags": []
   },
   "outputs": [],
   "source": [
    "# Split the data into training and testing sets\n",
    "X_train, X_test, y_train, y_test = train_test_split(X, y, test_size=0.2, random_state=42)"
   ]
  },
  {
   "cell_type": "code",
   "execution_count": 13,
   "id": "279d9167",
   "metadata": {
    "execution": {
     "iopub.execute_input": "2024-08-25T19:35:31.023577Z",
     "iopub.status.busy": "2024-08-25T19:35:31.023127Z",
     "iopub.status.idle": "2024-08-25T19:35:31.052234Z",
     "shell.execute_reply": "2024-08-25T19:35:31.051134Z"
    },
    "papermill": {
     "duration": 0.039967,
     "end_time": "2024-08-25T19:35:31.054588",
     "exception": false,
     "start_time": "2024-08-25T19:35:31.014621",
     "status": "completed"
    },
    "tags": []
   },
   "outputs": [
    {
     "data": {
      "text/html": [
       "<style>#sk-container-id-1 {color: black;background-color: white;}#sk-container-id-1 pre{padding: 0;}#sk-container-id-1 div.sk-toggleable {background-color: white;}#sk-container-id-1 label.sk-toggleable__label {cursor: pointer;display: block;width: 100%;margin-bottom: 0;padding: 0.3em;box-sizing: border-box;text-align: center;}#sk-container-id-1 label.sk-toggleable__label-arrow:before {content: \"▸\";float: left;margin-right: 0.25em;color: #696969;}#sk-container-id-1 label.sk-toggleable__label-arrow:hover:before {color: black;}#sk-container-id-1 div.sk-estimator:hover label.sk-toggleable__label-arrow:before {color: black;}#sk-container-id-1 div.sk-toggleable__content {max-height: 0;max-width: 0;overflow: hidden;text-align: left;background-color: #f0f8ff;}#sk-container-id-1 div.sk-toggleable__content pre {margin: 0.2em;color: black;border-radius: 0.25em;background-color: #f0f8ff;}#sk-container-id-1 input.sk-toggleable__control:checked~div.sk-toggleable__content {max-height: 200px;max-width: 100%;overflow: auto;}#sk-container-id-1 input.sk-toggleable__control:checked~label.sk-toggleable__label-arrow:before {content: \"▾\";}#sk-container-id-1 div.sk-estimator input.sk-toggleable__control:checked~label.sk-toggleable__label {background-color: #d4ebff;}#sk-container-id-1 div.sk-label input.sk-toggleable__control:checked~label.sk-toggleable__label {background-color: #d4ebff;}#sk-container-id-1 input.sk-hidden--visually {border: 0;clip: rect(1px 1px 1px 1px);clip: rect(1px, 1px, 1px, 1px);height: 1px;margin: -1px;overflow: hidden;padding: 0;position: absolute;width: 1px;}#sk-container-id-1 div.sk-estimator {font-family: monospace;background-color: #f0f8ff;border: 1px dotted black;border-radius: 0.25em;box-sizing: border-box;margin-bottom: 0.5em;}#sk-container-id-1 div.sk-estimator:hover {background-color: #d4ebff;}#sk-container-id-1 div.sk-parallel-item::after {content: \"\";width: 100%;border-bottom: 1px solid gray;flex-grow: 1;}#sk-container-id-1 div.sk-label:hover label.sk-toggleable__label {background-color: #d4ebff;}#sk-container-id-1 div.sk-serial::before {content: \"\";position: absolute;border-left: 1px solid gray;box-sizing: border-box;top: 0;bottom: 0;left: 50%;z-index: 0;}#sk-container-id-1 div.sk-serial {display: flex;flex-direction: column;align-items: center;background-color: white;padding-right: 0.2em;padding-left: 0.2em;position: relative;}#sk-container-id-1 div.sk-item {position: relative;z-index: 1;}#sk-container-id-1 div.sk-parallel {display: flex;align-items: stretch;justify-content: center;background-color: white;position: relative;}#sk-container-id-1 div.sk-item::before, #sk-container-id-1 div.sk-parallel-item::before {content: \"\";position: absolute;border-left: 1px solid gray;box-sizing: border-box;top: 0;bottom: 0;left: 50%;z-index: -1;}#sk-container-id-1 div.sk-parallel-item {display: flex;flex-direction: column;z-index: 1;position: relative;background-color: white;}#sk-container-id-1 div.sk-parallel-item:first-child::after {align-self: flex-end;width: 50%;}#sk-container-id-1 div.sk-parallel-item:last-child::after {align-self: flex-start;width: 50%;}#sk-container-id-1 div.sk-parallel-item:only-child::after {width: 0;}#sk-container-id-1 div.sk-dashed-wrapped {border: 1px dashed gray;margin: 0 0.4em 0.5em 0.4em;box-sizing: border-box;padding-bottom: 0.4em;background-color: white;}#sk-container-id-1 div.sk-label label {font-family: monospace;font-weight: bold;display: inline-block;line-height: 1.2em;}#sk-container-id-1 div.sk-label-container {text-align: center;}#sk-container-id-1 div.sk-container {/* jupyter's `normalize.less` sets `[hidden] { display: none; }` but bootstrap.min.css set `[hidden] { display: none !important; }` so we also need the `!important` here to be able to override the default hidden behavior on the sphinx rendered scikit-learn.org. See: https://github.com/scikit-learn/scikit-learn/issues/21755 */display: inline-block !important;position: relative;}#sk-container-id-1 div.sk-text-repr-fallback {display: none;}</style><div id=\"sk-container-id-1\" class=\"sk-top-container\"><div class=\"sk-text-repr-fallback\"><pre>LogisticRegression()</pre><b>In a Jupyter environment, please rerun this cell to show the HTML representation or trust the notebook. <br />On GitHub, the HTML representation is unable to render, please try loading this page with nbviewer.org.</b></div><div class=\"sk-container\" hidden><div class=\"sk-item\"><div class=\"sk-estimator sk-toggleable\"><input class=\"sk-toggleable__control sk-hidden--visually\" id=\"sk-estimator-id-1\" type=\"checkbox\" checked><label for=\"sk-estimator-id-1\" class=\"sk-toggleable__label sk-toggleable__label-arrow\">LogisticRegression</label><div class=\"sk-toggleable__content\"><pre>LogisticRegression()</pre></div></div></div></div></div>"
      ],
      "text/plain": [
       "LogisticRegression()"
      ]
     },
     "execution_count": 13,
     "metadata": {},
     "output_type": "execute_result"
    }
   ],
   "source": [
    "# Train a Logistic Regression model\n",
    "model = LogisticRegression()\n",
    "model.fit(X_train, y_train)"
   ]
  },
  {
   "cell_type": "code",
   "execution_count": 14,
   "id": "c44ba741",
   "metadata": {
    "execution": {
     "iopub.execute_input": "2024-08-25T19:35:31.072143Z",
     "iopub.status.busy": "2024-08-25T19:35:31.071022Z",
     "iopub.status.idle": "2024-08-25T19:35:31.077226Z",
     "shell.execute_reply": "2024-08-25T19:35:31.076147Z"
    },
    "papermill": {
     "duration": 0.017118,
     "end_time": "2024-08-25T19:35:31.079274",
     "exception": false,
     "start_time": "2024-08-25T19:35:31.062156",
     "status": "completed"
    },
    "tags": []
   },
   "outputs": [],
   "source": [
    "# Make predictions on the test set\n",
    "y_pred = model.predict(X_test)"
   ]
  },
  {
   "cell_type": "markdown",
   "id": "5cbcad0e",
   "metadata": {
    "papermill": {
     "duration": 0.00766,
     "end_time": "2024-08-25T19:35:31.094532",
     "exception": false,
     "start_time": "2024-08-25T19:35:31.086872",
     "status": "completed"
    },
    "tags": []
   },
   "source": [
    "### Model Evaluation"
   ]
  },
  {
   "cell_type": "code",
   "execution_count": 15,
   "id": "f8f86c49",
   "metadata": {
    "execution": {
     "iopub.execute_input": "2024-08-25T19:35:31.112211Z",
     "iopub.status.busy": "2024-08-25T19:35:31.111797Z",
     "iopub.status.idle": "2024-08-25T19:35:31.119643Z",
     "shell.execute_reply": "2024-08-25T19:35:31.118526Z"
    },
    "papermill": {
     "duration": 0.019553,
     "end_time": "2024-08-25T19:35:31.121693",
     "exception": false,
     "start_time": "2024-08-25T19:35:31.102140",
     "status": "completed"
    },
    "tags": []
   },
   "outputs": [
    {
     "name": "stdout",
     "output_type": "stream",
     "text": [
      "Accuracy: 0.92\n"
     ]
    }
   ],
   "source": [
    "# Calculate accuracy\n",
    "accuracy = accuracy_score(y_test, y_pred)\n",
    "print(f'Accuracy: {accuracy:.2f}')"
   ]
  },
  {
   "cell_type": "code",
   "execution_count": 16,
   "id": "32158cea",
   "metadata": {
    "execution": {
     "iopub.execute_input": "2024-08-25T19:35:31.138480Z",
     "iopub.status.busy": "2024-08-25T19:35:31.138083Z",
     "iopub.status.idle": "2024-08-25T19:35:31.362440Z",
     "shell.execute_reply": "2024-08-25T19:35:31.361416Z"
    },
    "papermill": {
     "duration": 0.235591,
     "end_time": "2024-08-25T19:35:31.364869",
     "exception": false,
     "start_time": "2024-08-25T19:35:31.129278",
     "status": "completed"
    },
    "tags": []
   },
   "outputs": [
    {
     "data": {
      "image/png": "[encoded data removed]",
      "text/plain": [
       "<Figure size 600x400 with 2 Axes>"
      ]
     },
     "metadata": {},
     "output_type": "display_data"
    }
   ],
   "source": [
    "# Display the confusion matrix\n",
    "conf_matrix = confusion_matrix(y_test, y_pred)\n",
    "plt.figure(figsize=(6,4))\n",
    "sns.heatmap(conf_matrix, annot=True, fmt='d', cmap='Blues')\n",
    "plt.title('Confusion Matrix')\n",
    "plt.xlabel('Predicted')\n",
    "plt.ylabel('Actual')\n",
    "plt.show()"
   ]
  },
  {
   "cell_type": "code",
   "execution_count": 17,
   "id": "c492476c",
   "metadata": {
    "execution": {
     "iopub.execute_input": "2024-08-25T19:35:31.382900Z",
     "iopub.status.busy": "2024-08-25T19:35:31.382480Z",
     "iopub.status.idle": "2024-08-25T19:35:31.396398Z",
     "shell.execute_reply": "2024-08-25T19:35:31.395230Z"
    },
    "papermill": {
     "duration": 0.025566,
     "end_time": "2024-08-25T19:35:31.398619",
     "exception": false,
     "start_time": "2024-08-25T19:35:31.373053",
     "status": "completed"
    },
    "tags": []
   },
   "outputs": [
    {
     "name": "stdout",
     "output_type": "stream",
     "text": [
      "              precision    recall  f1-score   support\n",
      "\n",
      "           0       0.90      0.97      0.93       187\n",
      "           1       0.96      0.87      0.91       156\n",
      "\n",
      "    accuracy                           0.92       343\n",
      "   macro avg       0.93      0.92      0.92       343\n",
      "weighted avg       0.93      0.92      0.92       343\n",
      "\n"
     ]
    }
   ],
   "source": [
    "# Display the classification report\n",
    "print(classification_report(y_test, y_pred))"
   ]
  },
  {
   "cell_type": "markdown",
   "id": "b9317c10",
   "metadata": {
    "papermill": {
     "duration": 0.008048,
     "end_time": "2024-08-25T19:35:31.414894",
     "exception": false,
     "start_time": "2024-08-25T19:35:31.406846",
     "status": "completed"
    },
    "tags": []
   },
   "source": [
    "### Future Analysis"
   ]
  },
  {
   "cell_type": "markdown",
   "id": "f2196e12",
   "metadata": {
    "papermill": {
     "duration": 0.007765,
     "end_time": "2024-08-25T19:35:31.430640",
     "exception": false,
     "start_time": "2024-08-25T19:35:31.422875",
     "status": "completed"
    },
    "tags": []
   },
   "source": [
    "What other features do you think could improve the model? Perhaps analyzing the length of comments or the frequency of certain keywords could provide additional insights. Let me know your thoughts."
   ]
  },
  {
   "cell_type": "markdown",
   "id": "1e3dcba8",
   "metadata": {
    "papermill": {
     "duration": 0.007754,
     "end_time": "2024-08-25T19:35:31.446411",
     "exception": false,
     "start_time": "2024-08-25T19:35:31.438657",
     "status": "completed"
    },
    "tags": []
   },
   "source": [
    "## Credits\n",
    "This notebook was created with the help of [Devra AI data science assistant](https://devra.ai/ref/kaggle)"
   ]
  }
 ],
 "metadata": {
  "kernelspec": {
   "display_name": "Python 3 (ipykernel)",
   "language": "python",
   "name": "python3"
  },
  "language_info": {
   "codemirror_mode": {
    "name": "ipython",
    "version": 3
   },
   "file_extension": ".py",
   "mimetype": "text/x-python",
   "name": "python",
   "nbconvert_exporter": "python",
   "pygments_lexer": "ipython3",
   "version": "3.11.7"
  },
  "papermill": {
   "default_parameters": {},
   "duration": 7.461162,
   "end_time": "2024-08-25T19:35:32.075537",
   "environment_variables": {},
   "exception": null,
   "input_path": "__notebook__.ipynb",
   "output_path": "__notebook__.ipynb",
   "parameters": {},
   "start_time": "2024-08-25T19:35:24.614375",
   "version": "2.6.0"
  }
 },
 "nbformat": 4,
 "nbformat_minor": 5
}
