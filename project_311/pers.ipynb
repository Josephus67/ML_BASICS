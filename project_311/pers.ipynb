{
 "cells": [
  {
   "cell_type": "code",
   "execution_count": 3,
   "id": "2b39077f-ad40-4c11-abeb-ca077fd8d807",
   "metadata": {},
   "outputs": [],
   "source": [
    "# import joblib\n",
    "# model_persistance = joblib.load('youtubespam.joblib')"
   ]
  },
  {
   "cell_type": "code",
   "execution_count": 9,
   "id": "e5a4dc6c-4e3b-4708-896e-1542f3ec9fa5",
   "metadata": {},
   "outputs": [
    {
     "data": {
      "text/plain": [
       "'\"Click my link to win a prize\" is NOT A SPAM MESSAGE'"
      ]
     },
     "execution_count": 9,
     "metadata": {},
     "output_type": "execute_result"
    }
   ],
   "source": [
    "import joblib\n",
    "\n",
    "# Load the saved model and vectorizer\n",
    "MODEL_PATH = \"youtubespam_model.joblib\"\n",
    "VECTORIZER_PATH = \"youtubespam_vectorizer.joblib\"\n",
    "\n",
    "loaded_model = joblib.load(MODEL_PATH)\n",
    "loaded_vectorizer = joblib.load(VECTORIZER_PATH)\n",
    "\n",
    "def pred_class(comment):\n",
    "    # Transform the input comment using the loaded vectorizer\n",
    "    comment_vectorized = loaded_vectorizer.transform([comment])\n",
    "    \n",
    "    # Predict using the loaded model\n",
    "    predicted_class = loaded_model.predict(comment_vectorized)[0]\n",
    "    \n",
    "    # Return the result\n",
    "    if predicted_class == 0:\n",
    "        return f'\"{comment}\" is NOT A SPAM MESSAGE'\n",
    "    else:\n",
    "        return f'\"{comment}\" IS A SPAM MESSAGE'\n",
    "\n",
    "# Example usage\n",
    "comment = \"Click my link to win a prize\"\n",
    "pred_class(comment)\n"
   ]
  },
  {
   "cell_type": "code",
   "execution_count": null,
   "id": "e9e6a702-f525-48d8-9980-ec9cffa1fc59",
   "metadata": {},
   "outputs": [],
   "source": []
  }
 ],
 "metadata": {
  "kernelspec": {
   "display_name": "Python 3 (ipykernel)",
   "language": "python",
   "name": "python3"
  },
  "language_info": {
   "codemirror_mode": {
    "name": "ipython",
    "version": 3
   },
   "file_extension": ".py",
   "mimetype": "text/x-python",
   "name": "python",
   "nbconvert_exporter": "python",
   "pygments_lexer": "ipython3",
   "version": "3.11.7"
  }
 },
 "nbformat": 4,
 "nbformat_minor": 5
}
