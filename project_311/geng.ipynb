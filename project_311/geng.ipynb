{
 "cells": [
  {
   "cell_type": "code",
   "execution_count": null,
   "id": "f8df9b92-e03d-420e-8087-f8891f08c1e5",
   "metadata": {
    "id": "f8df9b92-e03d-420e-8087-f8891f08c1e5"
   },
   "outputs": [],
   "source": []
  },
  {
   "cell_type": "code",
   "execution_count": 53,
   "id": "22809f2d-677f-465e-bc96-844af5406e86",
   "metadata": {
    "id": "22809f2d-677f-465e-bc96-844af5406e86"
   },
   "outputs": [],
   "source": [
    "import pandas as pd\n",
    "from sklearn.feature_extraction.text import TfidfVectorizer\n",
    "from sklearn.model_selection import train_test_split\n",
    "from sklearn.linear_model import LogisticRegression\n",
    "from sklearn.metrics import accuracy_score, confusion_matrix, classification_report\n",
    "import nltk\n",
    "from nltk.corpus import stopwords\n",
    "from nltk.tokenize import word_tokenize\n",
    "from nltk.stem import PorterStemmer, WordNetLemmatizer\n",
    "import matplotlib.pyplot as plt\n",
    "\n"
   ]
  },
  {
   "cell_type": "code",
   "execution_count": 54,
   "id": "e0ee40e6-06ff-49de-8403-beaa0417661d",
   "metadata": {
    "colab": {
     "base_uri": "https://localhost:8080/"
    },
    "id": "e0ee40e6-06ff-49de-8403-beaa0417661d",
    "outputId": "e751d28c-be95-4831-dfd1-a5246471c9b1"
   },
   "outputs": [
    {
     "name": "stderr",
     "output_type": "stream",
     "text": [
      "[nltk_data] Downloading package punkt to /Users/joe/nltk_data...\n",
      "[nltk_data]   Package punkt is already up-to-date!\n",
      "[nltk_data] Downloading package stopwords to /Users/joe/nltk_data...\n",
      "[nltk_data]   Package stopwords is already up-to-date!\n",
      "[nltk_data] Downloading package wordnet to /Users/joe/nltk_data...\n",
      "[nltk_data]   Package wordnet is already up-to-date!\n",
      "[nltk_data] Downloading package punkt_tab to /Users/joe/nltk_data...\n",
      "[nltk_data]   Package punkt_tab is already up-to-date!\n"
     ]
    },
    {
     "data": {
      "text/plain": [
       "True"
      ]
     },
     "execution_count": 54,
     "metadata": {},
     "output_type": "execute_result"
    }
   ],
   "source": [
    "# Download NLTK data\n",
    "nltk.download('punkt')\n",
    "nltk.download('stopwords')\n",
    "nltk.download('wordnet')\n",
    "nltk.download('punkt_tab')"
   ]
  },
  {
   "cell_type": "code",
   "execution_count": 55,
   "id": "2416ef03-1656-4c22-8efb-537f5a631c23",
   "metadata": {
    "colab": {
     "base_uri": "https://localhost:8080/",
     "height": 826
    },
    "id": "2416ef03-1656-4c22-8efb-537f5a631c23",
    "outputId": "3009ab58-3be1-4eee-ce42-84ba039d6056"
   },
   "outputs": [
    {
     "data": {
      "text/html": [
       "<div>\n",
       "<style scoped>\n",
       "    .dataframe tbody tr th:only-of-type {\n",
       "        vertical-align: middle;\n",
       "    }\n",
       "\n",
       "    .dataframe tbody tr th {\n",
       "        vertical-align: top;\n",
       "    }\n",
       "\n",
       "    .dataframe thead th {\n",
       "        text-align: right;\n",
       "    }\n",
       "</style>\n",
       "<table border=\"1\" class=\"dataframe\">\n",
       "  <thead>\n",
       "    <tr style=\"text-align: right;\">\n",
       "      <th></th>\n",
       "      <th>COMMENT_ID</th>\n",
       "      <th>AUTHOR</th>\n",
       "      <th>DATE</th>\n",
       "      <th>CONTENT</th>\n",
       "      <th>VIDEO_NAME</th>\n",
       "      <th>CLASS</th>\n",
       "    </tr>\n",
       "  </thead>\n",
       "  <tbody>\n",
       "    <tr>\n",
       "      <th>0</th>\n",
       "      <td>LZQPQhLyRh80UYxNuaDWhIGQYNQ96IuCg-AYWqNPjpU</td>\n",
       "      <td>Julius NM</td>\n",
       "      <td>2013-11-07T06:20:48</td>\n",
       "      <td>Huh, anyway check out this you[tube] channel: ...</td>\n",
       "      <td>PSY - GANGNAM STYLE(?????) M/V</td>\n",
       "      <td>1</td>\n",
       "    </tr>\n",
       "    <tr>\n",
       "      <th>1</th>\n",
       "      <td>LZQPQhLyRh_C2cTtd9MvFRJedxydaVW-2sNg5Diuo4A</td>\n",
       "      <td>adam riyati</td>\n",
       "      <td>2013-11-07T12:37:15</td>\n",
       "      <td>Hey guys check out my new channel and our firs...</td>\n",
       "      <td>PSY - GANGNAM STYLE(?????) M/V</td>\n",
       "      <td>1</td>\n",
       "    </tr>\n",
       "    <tr>\n",
       "      <th>2</th>\n",
       "      <td>LZQPQhLyRh9MSZYnf8djyk0gEF9BHDPYrrK-qCczIY8</td>\n",
       "      <td>Evgeny Murashkin</td>\n",
       "      <td>2013-11-08T17:34:21</td>\n",
       "      <td>just for test I have to say murdev.com</td>\n",
       "      <td>PSY - GANGNAM STYLE(?????) M/V</td>\n",
       "      <td>1</td>\n",
       "    </tr>\n",
       "    <tr>\n",
       "      <th>3</th>\n",
       "      <td>z13jhp0bxqncu512g22wvzkasxmvvzjaz04</td>\n",
       "      <td>ElNino Melendez</td>\n",
       "      <td>2013-11-09T08:28:43</td>\n",
       "      <td>me shaking my sexy ass on my channel enjoy ^_^ ﻿</td>\n",
       "      <td>PSY - GANGNAM STYLE(?????) M/V</td>\n",
       "      <td>1</td>\n",
       "    </tr>\n",
       "    <tr>\n",
       "      <th>4</th>\n",
       "      <td>z13fwbwp1oujthgqj04chlngpvzmtt3r3dw</td>\n",
       "      <td>GsMega</td>\n",
       "      <td>2013-11-10T16:05:38</td>\n",
       "      <td>watch?v=vtaRGgvGtWQ   Check this out .﻿</td>\n",
       "      <td>PSY - GANGNAM STYLE(?????) M/V</td>\n",
       "      <td>1</td>\n",
       "    </tr>\n",
       "    <tr>\n",
       "      <th>...</th>\n",
       "      <td>...</td>\n",
       "      <td>...</td>\n",
       "      <td>...</td>\n",
       "      <td>...</td>\n",
       "      <td>...</td>\n",
       "      <td>...</td>\n",
       "    </tr>\n",
       "    <tr>\n",
       "      <th>1951</th>\n",
       "      <td>_2viQ_Qnc6-bMSjqyL1NKj57ROicCSJV5SwTrw-RFFA</td>\n",
       "      <td>Katie Mettam</td>\n",
       "      <td>2013-07-13T13:27:39.441000</td>\n",
       "      <td>I love this song because we sing it at Camp al...</td>\n",
       "      <td>Shakira - Waka Waka</td>\n",
       "      <td>0</td>\n",
       "    </tr>\n",
       "    <tr>\n",
       "      <th>1952</th>\n",
       "      <td>_2viQ_Qnc6-pY-1yR6K2FhmC5i48-WuNx5CumlHLDAI</td>\n",
       "      <td>Sabina Pearson-Smith</td>\n",
       "      <td>2013-07-13T13:14:30.021000</td>\n",
       "      <td>I love this song for two reasons: 1.it is abou...</td>\n",
       "      <td>Shakira - Waka Waka</td>\n",
       "      <td>0</td>\n",
       "    </tr>\n",
       "    <tr>\n",
       "      <th>1953</th>\n",
       "      <td>_2viQ_Qnc6_k_n_Bse9zVhJP8tJReZpo8uM2uZfnzDs</td>\n",
       "      <td>jeffrey jules</td>\n",
       "      <td>2013-07-13T12:09:31.188000</td>\n",
       "      <td>wow</td>\n",
       "      <td>Shakira - Waka Waka</td>\n",
       "      <td>0</td>\n",
       "    </tr>\n",
       "    <tr>\n",
       "      <th>1954</th>\n",
       "      <td>_2viQ_Qnc6_yBt8UGMWyg3vh0PulTqcqyQtdE7d4Fl0</td>\n",
       "      <td>Aishlin Maciel</td>\n",
       "      <td>2013-07-13T11:17:52.308000</td>\n",
       "      <td>Shakira u are so wiredo</td>\n",
       "      <td>Shakira - Waka Waka</td>\n",
       "      <td>0</td>\n",
       "    </tr>\n",
       "    <tr>\n",
       "      <th>1955</th>\n",
       "      <td>_2viQ_Qnc685RPw1aSa1tfrIuHXRvAQ2rPT9R06KTqA</td>\n",
       "      <td>Latin Bosch</td>\n",
       "      <td>2013-07-12T22:33:27.916000</td>\n",
       "      <td>Shakira is the best dancer</td>\n",
       "      <td>Shakira - Waka Waka</td>\n",
       "      <td>0</td>\n",
       "    </tr>\n",
       "  </tbody>\n",
       "</table>\n",
       "<p>1956 rows × 6 columns</p>\n",
       "</div>"
      ],
      "text/plain": [
       "                                       COMMENT_ID                AUTHOR  \\\n",
       "0     LZQPQhLyRh80UYxNuaDWhIGQYNQ96IuCg-AYWqNPjpU             Julius NM   \n",
       "1     LZQPQhLyRh_C2cTtd9MvFRJedxydaVW-2sNg5Diuo4A           adam riyati   \n",
       "2     LZQPQhLyRh9MSZYnf8djyk0gEF9BHDPYrrK-qCczIY8      Evgeny Murashkin   \n",
       "3             z13jhp0bxqncu512g22wvzkasxmvvzjaz04       ElNino Melendez   \n",
       "4             z13fwbwp1oujthgqj04chlngpvzmtt3r3dw                GsMega   \n",
       "...                                           ...                   ...   \n",
       "1951  _2viQ_Qnc6-bMSjqyL1NKj57ROicCSJV5SwTrw-RFFA          Katie Mettam   \n",
       "1952  _2viQ_Qnc6-pY-1yR6K2FhmC5i48-WuNx5CumlHLDAI  Sabina Pearson-Smith   \n",
       "1953  _2viQ_Qnc6_k_n_Bse9zVhJP8tJReZpo8uM2uZfnzDs         jeffrey jules   \n",
       "1954  _2viQ_Qnc6_yBt8UGMWyg3vh0PulTqcqyQtdE7d4Fl0        Aishlin Maciel   \n",
       "1955  _2viQ_Qnc685RPw1aSa1tfrIuHXRvAQ2rPT9R06KTqA           Latin Bosch   \n",
       "\n",
       "                            DATE  \\\n",
       "0            2013-11-07T06:20:48   \n",
       "1            2013-11-07T12:37:15   \n",
       "2            2013-11-08T17:34:21   \n",
       "3            2013-11-09T08:28:43   \n",
       "4            2013-11-10T16:05:38   \n",
       "...                          ...   \n",
       "1951  2013-07-13T13:27:39.441000   \n",
       "1952  2013-07-13T13:14:30.021000   \n",
       "1953  2013-07-13T12:09:31.188000   \n",
       "1954  2013-07-13T11:17:52.308000   \n",
       "1955  2013-07-12T22:33:27.916000   \n",
       "\n",
       "                                                CONTENT  \\\n",
       "0     Huh, anyway check out this you[tube] channel: ...   \n",
       "1     Hey guys check out my new channel and our firs...   \n",
       "2                just for test I have to say murdev.com   \n",
       "3      me shaking my sexy ass on my channel enjoy ^_^ ﻿   \n",
       "4               watch?v=vtaRGgvGtWQ   Check this out .﻿   \n",
       "...                                                 ...   \n",
       "1951  I love this song because we sing it at Camp al...   \n",
       "1952  I love this song for two reasons: 1.it is abou...   \n",
       "1953                                                wow   \n",
       "1954                            Shakira u are so wiredo   \n",
       "1955                         Shakira is the best dancer   \n",
       "\n",
       "                          VIDEO_NAME  CLASS  \n",
       "0     PSY - GANGNAM STYLE(?????) M/V      1  \n",
       "1     PSY - GANGNAM STYLE(?????) M/V      1  \n",
       "2     PSY - GANGNAM STYLE(?????) M/V      1  \n",
       "3     PSY - GANGNAM STYLE(?????) M/V      1  \n",
       "4     PSY - GANGNAM STYLE(?????) M/V      1  \n",
       "...                              ...    ...  \n",
       "1951            Shakira - Waka Waka       0  \n",
       "1952            Shakira - Waka Waka       0  \n",
       "1953            Shakira - Waka Waka       0  \n",
       "1954            Shakira - Waka Waka       0  \n",
       "1955            Shakira - Waka Waka       0  \n",
       "\n",
       "[1956 rows x 6 columns]"
      ]
     },
     "execution_count": 55,
     "metadata": {},
     "output_type": "execute_result"
    }
   ],
   "source": [
    "\n",
    "# Load dataset\n",
    "df = pd.read_csv('Youtube-Spam-Dataset.csv')\n",
    "df\n"
   ]
  },
  {
   "cell_type": "code",
   "execution_count": 56,
   "id": "pxlq2v4veE1D",
   "metadata": {
    "colab": {
     "base_uri": "https://localhost:8080/"
    },
    "id": "pxlq2v4veE1D",
    "outputId": "dbdd4c95-4dff-4d44-a002-1dc34463f53d"
   },
   "outputs": [
    {
     "data": {
      "text/plain": [
       "['COMMENT_ID', 'AUTHOR', 'DATE', 'CONTENT', 'VIDEO_NAME', 'CLASS']"
      ]
     },
     "execution_count": 56,
     "metadata": {},
     "output_type": "execute_result"
    }
   ],
   "source": [
    "headers= df.columns.tolist()\n",
    "headers"
   ]
  },
  {
   "cell_type": "code",
   "execution_count": 57,
   "id": "182e6df7-ae39-41f9-9617-0d639ada13d6",
   "metadata": {
    "colab": {
     "base_uri": "https://localhost:8080/",
     "height": 597
    },
    "id": "182e6df7-ae39-41f9-9617-0d639ada13d6",
    "outputId": "769e5697-708b-4b23-859b-21b798735bcf"
   },
   "outputs": [
    {
     "data": {
      "text/html": [
       "<div>\n",
       "<style scoped>\n",
       "    .dataframe tbody tr th:only-of-type {\n",
       "        vertical-align: middle;\n",
       "    }\n",
       "\n",
       "    .dataframe tbody tr th {\n",
       "        vertical-align: top;\n",
       "    }\n",
       "\n",
       "    .dataframe thead th {\n",
       "        text-align: right;\n",
       "    }\n",
       "</style>\n",
       "<table border=\"1\" class=\"dataframe\">\n",
       "  <thead>\n",
       "    <tr style=\"text-align: right;\">\n",
       "      <th></th>\n",
       "      <th>AUTHOR</th>\n",
       "      <th>DATE</th>\n",
       "      <th>CONTENT</th>\n",
       "      <th>VIDEO_NAME</th>\n",
       "      <th>CLASS</th>\n",
       "    </tr>\n",
       "  </thead>\n",
       "  <tbody>\n",
       "    <tr>\n",
       "      <th>0</th>\n",
       "      <td>Julius NM</td>\n",
       "      <td>2013-11-07T06:20:48</td>\n",
       "      <td>Huh, anyway check out this you[tube] channel: ...</td>\n",
       "      <td>PSY - GANGNAM STYLE(?????) M/V</td>\n",
       "      <td>1</td>\n",
       "    </tr>\n",
       "    <tr>\n",
       "      <th>1</th>\n",
       "      <td>adam riyati</td>\n",
       "      <td>2013-11-07T12:37:15</td>\n",
       "      <td>Hey guys check out my new channel and our firs...</td>\n",
       "      <td>PSY - GANGNAM STYLE(?????) M/V</td>\n",
       "      <td>1</td>\n",
       "    </tr>\n",
       "    <tr>\n",
       "      <th>2</th>\n",
       "      <td>Evgeny Murashkin</td>\n",
       "      <td>2013-11-08T17:34:21</td>\n",
       "      <td>just for test I have to say murdev.com</td>\n",
       "      <td>PSY - GANGNAM STYLE(?????) M/V</td>\n",
       "      <td>1</td>\n",
       "    </tr>\n",
       "    <tr>\n",
       "      <th>3</th>\n",
       "      <td>ElNino Melendez</td>\n",
       "      <td>2013-11-09T08:28:43</td>\n",
       "      <td>me shaking my sexy ass on my channel enjoy ^_^ ﻿</td>\n",
       "      <td>PSY - GANGNAM STYLE(?????) M/V</td>\n",
       "      <td>1</td>\n",
       "    </tr>\n",
       "    <tr>\n",
       "      <th>4</th>\n",
       "      <td>GsMega</td>\n",
       "      <td>2013-11-10T16:05:38</td>\n",
       "      <td>watch?v=vtaRGgvGtWQ   Check this out .﻿</td>\n",
       "      <td>PSY - GANGNAM STYLE(?????) M/V</td>\n",
       "      <td>1</td>\n",
       "    </tr>\n",
       "    <tr>\n",
       "      <th>...</th>\n",
       "      <td>...</td>\n",
       "      <td>...</td>\n",
       "      <td>...</td>\n",
       "      <td>...</td>\n",
       "      <td>...</td>\n",
       "    </tr>\n",
       "    <tr>\n",
       "      <th>1951</th>\n",
       "      <td>Katie Mettam</td>\n",
       "      <td>2013-07-13T13:27:39.441000</td>\n",
       "      <td>I love this song because we sing it at Camp al...</td>\n",
       "      <td>Shakira - Waka Waka</td>\n",
       "      <td>0</td>\n",
       "    </tr>\n",
       "    <tr>\n",
       "      <th>1952</th>\n",
       "      <td>Sabina Pearson-Smith</td>\n",
       "      <td>2013-07-13T13:14:30.021000</td>\n",
       "      <td>I love this song for two reasons: 1.it is abou...</td>\n",
       "      <td>Shakira - Waka Waka</td>\n",
       "      <td>0</td>\n",
       "    </tr>\n",
       "    <tr>\n",
       "      <th>1953</th>\n",
       "      <td>jeffrey jules</td>\n",
       "      <td>2013-07-13T12:09:31.188000</td>\n",
       "      <td>wow</td>\n",
       "      <td>Shakira - Waka Waka</td>\n",
       "      <td>0</td>\n",
       "    </tr>\n",
       "    <tr>\n",
       "      <th>1954</th>\n",
       "      <td>Aishlin Maciel</td>\n",
       "      <td>2013-07-13T11:17:52.308000</td>\n",
       "      <td>Shakira u are so wiredo</td>\n",
       "      <td>Shakira - Waka Waka</td>\n",
       "      <td>0</td>\n",
       "    </tr>\n",
       "    <tr>\n",
       "      <th>1955</th>\n",
       "      <td>Latin Bosch</td>\n",
       "      <td>2013-07-12T22:33:27.916000</td>\n",
       "      <td>Shakira is the best dancer</td>\n",
       "      <td>Shakira - Waka Waka</td>\n",
       "      <td>0</td>\n",
       "    </tr>\n",
       "  </tbody>\n",
       "</table>\n",
       "<p>1956 rows × 5 columns</p>\n",
       "</div>"
      ],
      "text/plain": [
       "                    AUTHOR                        DATE  \\\n",
       "0                Julius NM         2013-11-07T06:20:48   \n",
       "1              adam riyati         2013-11-07T12:37:15   \n",
       "2         Evgeny Murashkin         2013-11-08T17:34:21   \n",
       "3          ElNino Melendez         2013-11-09T08:28:43   \n",
       "4                   GsMega         2013-11-10T16:05:38   \n",
       "...                    ...                         ...   \n",
       "1951          Katie Mettam  2013-07-13T13:27:39.441000   \n",
       "1952  Sabina Pearson-Smith  2013-07-13T13:14:30.021000   \n",
       "1953         jeffrey jules  2013-07-13T12:09:31.188000   \n",
       "1954        Aishlin Maciel  2013-07-13T11:17:52.308000   \n",
       "1955           Latin Bosch  2013-07-12T22:33:27.916000   \n",
       "\n",
       "                                                CONTENT  \\\n",
       "0     Huh, anyway check out this you[tube] channel: ...   \n",
       "1     Hey guys check out my new channel and our firs...   \n",
       "2                just for test I have to say murdev.com   \n",
       "3      me shaking my sexy ass on my channel enjoy ^_^ ﻿   \n",
       "4               watch?v=vtaRGgvGtWQ   Check this out .﻿   \n",
       "...                                                 ...   \n",
       "1951  I love this song because we sing it at Camp al...   \n",
       "1952  I love this song for two reasons: 1.it is abou...   \n",
       "1953                                                wow   \n",
       "1954                            Shakira u are so wiredo   \n",
       "1955                         Shakira is the best dancer   \n",
       "\n",
       "                          VIDEO_NAME  CLASS  \n",
       "0     PSY - GANGNAM STYLE(?????) M/V      1  \n",
       "1     PSY - GANGNAM STYLE(?????) M/V      1  \n",
       "2     PSY - GANGNAM STYLE(?????) M/V      1  \n",
       "3     PSY - GANGNAM STYLE(?????) M/V      1  \n",
       "4     PSY - GANGNAM STYLE(?????) M/V      1  \n",
       "...                              ...    ...  \n",
       "1951            Shakira - Waka Waka       0  \n",
       "1952            Shakira - Waka Waka       0  \n",
       "1953            Shakira - Waka Waka       0  \n",
       "1954            Shakira - Waka Waka       0  \n",
       "1955            Shakira - Waka Waka       0  \n",
       "\n",
       "[1956 rows x 5 columns]"
      ]
     },
     "execution_count": 57,
     "metadata": {},
     "output_type": "execute_result"
    }
   ],
   "source": [
    "# Drop unnecessary columns\n",
    "df = df.drop(columns=['COMMENT_ID'])\n",
    "df\n"
   ]
  },
  {
   "cell_type": "code",
   "execution_count": 58,
   "id": "a9b358d9-717c-4463-a9ae-5214f73ba3c9",
   "metadata": {
    "colab": {
     "base_uri": "https://localhost:8080/",
     "height": 241
    },
    "id": "a9b358d9-717c-4463-a9ae-5214f73ba3c9",
    "outputId": "016be5dc-3ee7-479f-858e-04ba163e3d11"
   },
   "outputs": [
    {
     "data": {
      "text/plain": [
       "AUTHOR          0\n",
       "DATE          245\n",
       "CONTENT         0\n",
       "VIDEO_NAME      0\n",
       "CLASS           0\n",
       "dtype: int64"
      ]
     },
     "execution_count": 58,
     "metadata": {},
     "output_type": "execute_result"
    }
   ],
   "source": [
    "# Check for missing values\n",
    "df.isnull().sum()\n"
   ]
  },
  {
   "cell_type": "code",
   "execution_count": 59,
   "id": "CQOe2LekcKPj",
   "metadata": {
    "colab": {
     "base_uri": "https://localhost:8080/"
    },
    "id": "CQOe2LekcKPj",
    "outputId": "712e285b-03ca-4be8-fff3-b56d96f050a9"
   },
   "outputs": [
    {
     "name": "stdout",
     "output_type": "stream",
     "text": [
      "AUTHOR         0.000000\n",
      "DATE          12.525562\n",
      "CONTENT        0.000000\n",
      "VIDEO_NAME     0.000000\n",
      "CLASS          0.000000\n",
      "dtype: float64\n"
     ]
    }
   ],
   "source": [
    "print((df.isnull().sum()/len(df))*100)"
   ]
  },
  {
   "cell_type": "code",
   "execution_count": 60,
   "id": "6Leg5P3ncaMb",
   "metadata": {
    "id": "6Leg5P3ncaMb"
   },
   "outputs": [],
   "source": [
    "# df.dropna(inplace=True)\n",
    "# print((df.isnull().sum()/len(df))*100)"
   ]
  },
  {
   "cell_type": "code",
   "execution_count": 61,
   "id": "R4JxdkCteXZ_",
   "metadata": {
    "colab": {
     "base_uri": "https://localhost:8080/",
     "height": 521
    },
    "id": "R4JxdkCteXZ_",
    "outputId": "7272c0e6-83b2-4350-a126-e48a9dd5d0fe"
   },
   "outputs": [
    {
     "data": {
      "image/png": "[encoded data removed]",
      "text/plain": [
       "<Figure size 600x600 with 1 Axes>"
      ]
     },
     "metadata": {},
     "output_type": "display_data"
    }
   ],
   "source": [
    "# @title Overall Spam vs. Non-spam Distribution\n",
    "\n",
    "import matplotlib.pyplot as plt\n",
    "\n",
    "# Calculate the counts of spam and non-spam comments\n",
    "class_counts = df['CLASS'].value_counts()\n",
    "\n",
    "# Create the pie chart\n",
    "plt.figure(figsize=(6, 6))\n",
    "plt.pie(class_counts, labels=['Not Spam', 'Spam'], autopct='%1.1f%%', startangle=90, colors=['skyblue', 'coral'])\n",
    "plt.title('Overall Spam vs. Non-spam Distribution')\n",
    "_ = plt.axis('equal')"
   ]
  },
  {
   "cell_type": "code",
   "execution_count": 62,
   "id": "QWPKHiuTeZHN",
   "metadata": {
    "colab": {
     "base_uri": "https://localhost:8080/",
     "height": 390
    },
    "id": "QWPKHiuTeZHN",
    "outputId": "e6a87771-1327-4f2c-dd77-9b8482445263"
   },
   "outputs": [
    {
     "data": {
      "image/png": "[encoded data removed]",
      "text/plain": [
       "<Figure size 640x480 with 1 Axes>"
      ]
     },
     "metadata": {},
     "output_type": "display_data"
    }
   ],
   "source": [
    "# @title VIDEO_NAME\n",
    "\n",
    "from matplotlib import pyplot as plt\n",
    "import seaborn as sns\n",
    "df.groupby('VIDEO_NAME').size().plot(kind='barh', color=sns.palettes.mpl_palette('Dark2'))\n",
    "plt.gca().spines[['top', 'right',]].set_visible(False)"
   ]
  },
  {
   "cell_type": "code",
   "execution_count": 63,
   "id": "5-eUlwkheecZ",
   "metadata": {
    "colab": {
     "base_uri": "https://localhost:8080/",
     "height": 527
    },
    "id": "5-eUlwkheecZ",
    "outputId": "2b20b4fe-a92f-4206-e417-67d61829b4e6"
   },
   "outputs": [
    {
     "data": {
      "image/png": "[encoded data removed]",
      "text/plain": [
       "<Figure size 1000x600 with 1 Axes>"
      ]
     },
     "metadata": {},
     "output_type": "display_data"
    }
   ],
   "source": [
    "import seaborn as sns\n",
    "import matplotlib.pyplot as plt\n",
    "\n",
    "# Group data by video name and class, then count occurrences\n",
    "grouped_data = df.groupby(['VIDEO_NAME', 'CLASS'])['CLASS'].count().unstack()\n",
    "\n",
    "# Create the grouped bar chart\n",
    "grouped_data.plot(kind='barh', figsize=(10, 6), colormap='Dark2')\n",
    "\n",
    "# Customize the plot\n",
    "plt.title('Comment Distribution by Video Name and Class')\n",
    "plt.xlabel('Number of Comments')\n",
    "plt.ylabel('Video Name')\n",
    "plt.legend(title='Class', labels=['Not Spam', 'Spam'])  # Adjust labels as needed\n",
    "plt.gca().spines[['top', 'right']].set_visible(False)\n",
    "plt.tight_layout()\n",
    "plt.show()"
   ]
  },
  {
   "cell_type": "code",
   "execution_count": 64,
   "id": "ed9f062f-f80a-4bf4-b94a-a2ada872e550",
   "metadata": {
    "id": "ed9f062f-f80a-4bf4-b94a-a2ada872e550"
   },
   "outputs": [],
   "source": [
    "# Function for text preprocessing\n",
    "def preprocess_text(text, use_stemming=True):\n",
    "\n",
    "    # Tokenization\n",
    "    tokens = word_tokenize(text)\n",
    "\n",
    "    # Remove stop words\n",
    "    stop_words = set(stopwords.words('english'))\n",
    "    filtered_tokens = [word for word in tokens if word.lower() not in stop_words]\n",
    "\n",
    "    if use_stemming:\n",
    "        # Stemming\n",
    "        stemmer = PorterStemmer()\n",
    "        processed_tokens = [stemmer.stem(word) for word in filtered_tokens]\n",
    "    else:\n",
    "        # Lemmatization\n",
    "        lemmatizer = WordNetLemmatizer()\n",
    "        processed_tokens = [lemmatizer.lemmatize(word) for word in filtered_tokens]\n",
    "\n",
    "    return ' '.join(processed_tokens)\n"
   ]
  },
  {
   "cell_type": "code",
   "execution_count": null,
   "id": "7eafe47c-0f29-4877-8e14-3f135ec2542a",
   "metadata": {
    "id": "7eafe47c-0f29-4877-8e14-3f135ec2542a"
   },
   "outputs": [],
   "source": [
    "\n"
   ]
  },
  {
   "cell_type": "code",
   "execution_count": null,
   "id": "3e3c9cb8-b838-466e-8c85-2ee98d2f5d44",
   "metadata": {
    "id": "3e3c9cb8-b838-466e-8c85-2ee98d2f5d44"
   },
   "outputs": [],
   "source": []
  },
  {
   "cell_type": "code",
   "execution_count": 65,
   "id": "4d5df763-a67f-452d-ae6a-39f862fa51a9",
   "metadata": {
    "colab": {
     "base_uri": "https://localhost:8080/",
     "height": 719
    },
    "id": "4d5df763-a67f-452d-ae6a-39f862fa51a9",
    "outputId": "7fc23e0d-d9f4-4364-fb89-da548dbc6b74"
   },
   "outputs": [
    {
     "data": {
      "text/html": [
       "<div>\n",
       "<style scoped>\n",
       "    .dataframe tbody tr th:only-of-type {\n",
       "        vertical-align: middle;\n",
       "    }\n",
       "\n",
       "    .dataframe tbody tr th {\n",
       "        vertical-align: top;\n",
       "    }\n",
       "\n",
       "    .dataframe thead th {\n",
       "        text-align: right;\n",
       "    }\n",
       "</style>\n",
       "<table border=\"1\" class=\"dataframe\">\n",
       "  <thead>\n",
       "    <tr style=\"text-align: right;\">\n",
       "      <th></th>\n",
       "      <th>AUTHOR</th>\n",
       "      <th>DATE</th>\n",
       "      <th>CONTENT</th>\n",
       "      <th>VIDEO_NAME</th>\n",
       "      <th>CLASS</th>\n",
       "      <th>PROCESSED_COMMENT</th>\n",
       "    </tr>\n",
       "  </thead>\n",
       "  <tbody>\n",
       "    <tr>\n",
       "      <th>0</th>\n",
       "      <td>Julius NM</td>\n",
       "      <td>2013-11-07T06:20:48</td>\n",
       "      <td>Huh, anyway check out this you[tube] channel: ...</td>\n",
       "      <td>PSY - GANGNAM STYLE(?????) M/V</td>\n",
       "      <td>1</td>\n",
       "      <td>huh , anyway check [ tube ] channel : kobyoshi02</td>\n",
       "    </tr>\n",
       "    <tr>\n",
       "      <th>1</th>\n",
       "      <td>adam riyati</td>\n",
       "      <td>2013-11-07T12:37:15</td>\n",
       "      <td>Hey guys check out my new channel and our firs...</td>\n",
       "      <td>PSY - GANGNAM STYLE(?????) M/V</td>\n",
       "      <td>1</td>\n",
       "      <td>hey guy check new channel first vid us monkey ...</td>\n",
       "    </tr>\n",
       "    <tr>\n",
       "      <th>2</th>\n",
       "      <td>Evgeny Murashkin</td>\n",
       "      <td>2013-11-08T17:34:21</td>\n",
       "      <td>just for test I have to say murdev.com</td>\n",
       "      <td>PSY - GANGNAM STYLE(?????) M/V</td>\n",
       "      <td>1</td>\n",
       "      <td>test say murdev.com</td>\n",
       "    </tr>\n",
       "    <tr>\n",
       "      <th>3</th>\n",
       "      <td>ElNino Melendez</td>\n",
       "      <td>2013-11-09T08:28:43</td>\n",
       "      <td>me shaking my sexy ass on my channel enjoy ^_^ ﻿</td>\n",
       "      <td>PSY - GANGNAM STYLE(?????) M/V</td>\n",
       "      <td>1</td>\n",
       "      <td>shake sexi ass channel enjoy ^_^ ﻿</td>\n",
       "    </tr>\n",
       "    <tr>\n",
       "      <th>4</th>\n",
       "      <td>GsMega</td>\n",
       "      <td>2013-11-10T16:05:38</td>\n",
       "      <td>watch?v=vtaRGgvGtWQ   Check this out .﻿</td>\n",
       "      <td>PSY - GANGNAM STYLE(?????) M/V</td>\n",
       "      <td>1</td>\n",
       "      <td>watch ? v=vtarggvgtwq check .﻿</td>\n",
       "    </tr>\n",
       "    <tr>\n",
       "      <th>...</th>\n",
       "      <td>...</td>\n",
       "      <td>...</td>\n",
       "      <td>...</td>\n",
       "      <td>...</td>\n",
       "      <td>...</td>\n",
       "      <td>...</td>\n",
       "    </tr>\n",
       "    <tr>\n",
       "      <th>1951</th>\n",
       "      <td>Katie Mettam</td>\n",
       "      <td>2013-07-13T13:27:39.441000</td>\n",
       "      <td>I love this song because we sing it at Camp al...</td>\n",
       "      <td>Shakira - Waka Waka</td>\n",
       "      <td>0</td>\n",
       "      <td>love song sing camp time ! !</td>\n",
       "    </tr>\n",
       "    <tr>\n",
       "      <th>1952</th>\n",
       "      <td>Sabina Pearson-Smith</td>\n",
       "      <td>2013-07-13T13:14:30.021000</td>\n",
       "      <td>I love this song for two reasons: 1.it is abou...</td>\n",
       "      <td>Shakira - Waka Waka</td>\n",
       "      <td>0</td>\n",
       "      <td>love song two reason : 1.it africa 2.i born be...</td>\n",
       "    </tr>\n",
       "    <tr>\n",
       "      <th>1953</th>\n",
       "      <td>jeffrey jules</td>\n",
       "      <td>2013-07-13T12:09:31.188000</td>\n",
       "      <td>wow</td>\n",
       "      <td>Shakira - Waka Waka</td>\n",
       "      <td>0</td>\n",
       "      <td>wow</td>\n",
       "    </tr>\n",
       "    <tr>\n",
       "      <th>1954</th>\n",
       "      <td>Aishlin Maciel</td>\n",
       "      <td>2013-07-13T11:17:52.308000</td>\n",
       "      <td>Shakira u are so wiredo</td>\n",
       "      <td>Shakira - Waka Waka</td>\n",
       "      <td>0</td>\n",
       "      <td>shakira u wiredo</td>\n",
       "    </tr>\n",
       "    <tr>\n",
       "      <th>1955</th>\n",
       "      <td>Latin Bosch</td>\n",
       "      <td>2013-07-12T22:33:27.916000</td>\n",
       "      <td>Shakira is the best dancer</td>\n",
       "      <td>Shakira - Waka Waka</td>\n",
       "      <td>0</td>\n",
       "      <td>shakira best dancer</td>\n",
       "    </tr>\n",
       "  </tbody>\n",
       "</table>\n",
       "<p>1956 rows × 6 columns</p>\n",
       "</div>"
      ],
      "text/plain": [
       "                    AUTHOR                        DATE  \\\n",
       "0                Julius NM         2013-11-07T06:20:48   \n",
       "1              adam riyati         2013-11-07T12:37:15   \n",
       "2         Evgeny Murashkin         2013-11-08T17:34:21   \n",
       "3          ElNino Melendez         2013-11-09T08:28:43   \n",
       "4                   GsMega         2013-11-10T16:05:38   \n",
       "...                    ...                         ...   \n",
       "1951          Katie Mettam  2013-07-13T13:27:39.441000   \n",
       "1952  Sabina Pearson-Smith  2013-07-13T13:14:30.021000   \n",
       "1953         jeffrey jules  2013-07-13T12:09:31.188000   \n",
       "1954        Aishlin Maciel  2013-07-13T11:17:52.308000   \n",
       "1955           Latin Bosch  2013-07-12T22:33:27.916000   \n",
       "\n",
       "                                                CONTENT  \\\n",
       "0     Huh, anyway check out this you[tube] channel: ...   \n",
       "1     Hey guys check out my new channel and our firs...   \n",
       "2                just for test I have to say murdev.com   \n",
       "3      me shaking my sexy ass on my channel enjoy ^_^ ﻿   \n",
       "4               watch?v=vtaRGgvGtWQ   Check this out .﻿   \n",
       "...                                                 ...   \n",
       "1951  I love this song because we sing it at Camp al...   \n",
       "1952  I love this song for two reasons: 1.it is abou...   \n",
       "1953                                                wow   \n",
       "1954                            Shakira u are so wiredo   \n",
       "1955                         Shakira is the best dancer   \n",
       "\n",
       "                          VIDEO_NAME  CLASS  \\\n",
       "0     PSY - GANGNAM STYLE(?????) M/V      1   \n",
       "1     PSY - GANGNAM STYLE(?????) M/V      1   \n",
       "2     PSY - GANGNAM STYLE(?????) M/V      1   \n",
       "3     PSY - GANGNAM STYLE(?????) M/V      1   \n",
       "4     PSY - GANGNAM STYLE(?????) M/V      1   \n",
       "...                              ...    ...   \n",
       "1951            Shakira - Waka Waka       0   \n",
       "1952            Shakira - Waka Waka       0   \n",
       "1953            Shakira - Waka Waka       0   \n",
       "1954            Shakira - Waka Waka       0   \n",
       "1955            Shakira - Waka Waka       0   \n",
       "\n",
       "                                      PROCESSED_COMMENT  \n",
       "0      huh , anyway check [ tube ] channel : kobyoshi02  \n",
       "1     hey guy check new channel first vid us monkey ...  \n",
       "2                                   test say murdev.com  \n",
       "3                    shake sexi ass channel enjoy ^_^ ﻿  \n",
       "4                        watch ? v=vtarggvgtwq check .﻿  \n",
       "...                                                 ...  \n",
       "1951                       love song sing camp time ! !  \n",
       "1952  love song two reason : 1.it africa 2.i born be...  \n",
       "1953                                                wow  \n",
       "1954                                   shakira u wiredo  \n",
       "1955                                shakira best dancer  \n",
       "\n",
       "[1956 rows x 6 columns]"
      ]
     },
     "execution_count": 65,
     "metadata": {},
     "output_type": "execute_result"
    }
   ],
   "source": [
    "# Apply preprocessing to the dataset\n",
    "df['PROCESSED_COMMENT'] = df['CONTENT'].apply(lambda x: preprocess_text(str(x)))\n",
    "df\n"
   ]
  },
  {
   "cell_type": "code",
   "execution_count": 66,
   "id": "f68b6986-bfb3-49c2-b122-3e26a3332158",
   "metadata": {
    "colab": {
     "base_uri": "https://localhost:8080/",
     "height": 424
    },
    "id": "f68b6986-bfb3-49c2-b122-3e26a3332158",
    "outputId": "08f9c57b-eaa1-4c34-c08b-4b818b3bd404"
   },
   "outputs": [
    {
     "data": {
      "text/html": [
       "<div>\n",
       "<style scoped>\n",
       "    .dataframe tbody tr th:only-of-type {\n",
       "        vertical-align: middle;\n",
       "    }\n",
       "\n",
       "    .dataframe tbody tr th {\n",
       "        vertical-align: top;\n",
       "    }\n",
       "\n",
       "    .dataframe thead th {\n",
       "        text-align: right;\n",
       "    }\n",
       "</style>\n",
       "<table border=\"1\" class=\"dataframe\">\n",
       "  <thead>\n",
       "    <tr style=\"text-align: right;\">\n",
       "      <th></th>\n",
       "      <th>PROCESSED_COMMENT</th>\n",
       "      <th>CLASS</th>\n",
       "    </tr>\n",
       "  </thead>\n",
       "  <tbody>\n",
       "    <tr>\n",
       "      <th>0</th>\n",
       "      <td>huh , anyway check [ tube ] channel : kobyoshi02</td>\n",
       "      <td>1</td>\n",
       "    </tr>\n",
       "    <tr>\n",
       "      <th>1</th>\n",
       "      <td>hey guy check new channel first vid us monkey ...</td>\n",
       "      <td>1</td>\n",
       "    </tr>\n",
       "    <tr>\n",
       "      <th>2</th>\n",
       "      <td>test say murdev.com</td>\n",
       "      <td>1</td>\n",
       "    </tr>\n",
       "    <tr>\n",
       "      <th>3</th>\n",
       "      <td>shake sexi ass channel enjoy ^_^ ﻿</td>\n",
       "      <td>1</td>\n",
       "    </tr>\n",
       "    <tr>\n",
       "      <th>4</th>\n",
       "      <td>watch ? v=vtarggvgtwq check .﻿</td>\n",
       "      <td>1</td>\n",
       "    </tr>\n",
       "    <tr>\n",
       "      <th>...</th>\n",
       "      <td>...</td>\n",
       "      <td>...</td>\n",
       "    </tr>\n",
       "    <tr>\n",
       "      <th>1951</th>\n",
       "      <td>love song sing camp time ! !</td>\n",
       "      <td>0</td>\n",
       "    </tr>\n",
       "    <tr>\n",
       "      <th>1952</th>\n",
       "      <td>love song two reason : 1.it africa 2.i born be...</td>\n",
       "      <td>0</td>\n",
       "    </tr>\n",
       "    <tr>\n",
       "      <th>1953</th>\n",
       "      <td>wow</td>\n",
       "      <td>0</td>\n",
       "    </tr>\n",
       "    <tr>\n",
       "      <th>1954</th>\n",
       "      <td>shakira u wiredo</td>\n",
       "      <td>0</td>\n",
       "    </tr>\n",
       "    <tr>\n",
       "      <th>1955</th>\n",
       "      <td>shakira best dancer</td>\n",
       "      <td>0</td>\n",
       "    </tr>\n",
       "  </tbody>\n",
       "</table>\n",
       "<p>1956 rows × 2 columns</p>\n",
       "</div>"
      ],
      "text/plain": [
       "                                      PROCESSED_COMMENT  CLASS\n",
       "0      huh , anyway check [ tube ] channel : kobyoshi02      1\n",
       "1     hey guy check new channel first vid us monkey ...      1\n",
       "2                                   test say murdev.com      1\n",
       "3                    shake sexi ass channel enjoy ^_^ ﻿      1\n",
       "4                        watch ? v=vtarggvgtwq check .﻿      1\n",
       "...                                                 ...    ...\n",
       "1951                       love song sing camp time ! !      0\n",
       "1952  love song two reason : 1.it africa 2.i born be...      0\n",
       "1953                                                wow      0\n",
       "1954                                   shakira u wiredo      0\n",
       "1955                                shakira best dancer      0\n",
       "\n",
       "[1956 rows x 2 columns]"
      ]
     },
     "execution_count": 66,
     "metadata": {},
     "output_type": "execute_result"
    }
   ],
   "source": [
    "# Split dataset into training and testing\n",
    "X = df['PROCESSED_COMMENT']\n",
    "y = df['CLASS']\n",
    "X_train, X_test, y_train, y_test = train_test_split(X, y, test_size=0.2, random_state=42)\n",
    "df[[X.name, y.name]]"
   ]
  },
  {
   "cell_type": "code",
   "execution_count": 67,
   "id": "da45dc19-706d-40ca-ba2d-11da472a08b3",
   "metadata": {
    "id": "da45dc19-706d-40ca-ba2d-11da472a08b3"
   },
   "outputs": [],
   "source": [
    "#Vectorize the text data\n",
    "vectorizer = TfidfVectorizer()\n",
    "X_train_tfidf = vectorizer.fit_transform(X_train)\n",
    "X_test_tfidf = vectorizer.transform(X_test)\n"
   ]
  },
  {
   "cell_type": "code",
   "execution_count": 68,
   "id": "18fb5bb2-9432-40a1-9554-3f8288c7844d",
   "metadata": {
    "colab": {
     "base_uri": "https://localhost:8080/",
     "height": 80
    },
    "id": "18fb5bb2-9432-40a1-9554-3f8288c7844d",
    "outputId": "d89ffd73-30fd-44a6-9cf7-06279ac44017"
   },
   "outputs": [
    {
     "data": {
      "text/html": [
       "<style>#sk-container-id-2 {color: black;background-color: white;}#sk-container-id-2 pre{padding: 0;}#sk-container-id-2 div.sk-toggleable {background-color: white;}#sk-container-id-2 label.sk-toggleable__label {cursor: pointer;display: block;width: 100%;margin-bottom: 0;padding: 0.3em;box-sizing: border-box;text-align: center;}#sk-container-id-2 label.sk-toggleable__label-arrow:before {content: \"▸\";float: left;margin-right: 0.25em;color: #696969;}#sk-container-id-2 label.sk-toggleable__label-arrow:hover:before {color: black;}#sk-container-id-2 div.sk-estimator:hover label.sk-toggleable__label-arrow:before {color: black;}#sk-container-id-2 div.sk-toggleable__content {max-height: 0;max-width: 0;overflow: hidden;text-align: left;background-color: #f0f8ff;}#sk-container-id-2 div.sk-toggleable__content pre {margin: 0.2em;color: black;border-radius: 0.25em;background-color: #f0f8ff;}#sk-container-id-2 input.sk-toggleable__control:checked~div.sk-toggleable__content {max-height: 200px;max-width: 100%;overflow: auto;}#sk-container-id-2 input.sk-toggleable__control:checked~label.sk-toggleable__label-arrow:before {content: \"▾\";}#sk-container-id-2 div.sk-estimator input.sk-toggleable__control:checked~label.sk-toggleable__label {background-color: #d4ebff;}#sk-container-id-2 div.sk-label input.sk-toggleable__control:checked~label.sk-toggleable__label {background-color: #d4ebff;}#sk-container-id-2 input.sk-hidden--visually {border: 0;clip: rect(1px 1px 1px 1px);clip: rect(1px, 1px, 1px, 1px);height: 1px;margin: -1px;overflow: hidden;padding: 0;position: absolute;width: 1px;}#sk-container-id-2 div.sk-estimator {font-family: monospace;background-color: #f0f8ff;border: 1px dotted black;border-radius: 0.25em;box-sizing: border-box;margin-bottom: 0.5em;}#sk-container-id-2 div.sk-estimator:hover {background-color: #d4ebff;}#sk-container-id-2 div.sk-parallel-item::after {content: \"\";width: 100%;border-bottom: 1px solid gray;flex-grow: 1;}#sk-container-id-2 div.sk-label:hover label.sk-toggleable__label {background-color: #d4ebff;}#sk-container-id-2 div.sk-serial::before {content: \"\";position: absolute;border-left: 1px solid gray;box-sizing: border-box;top: 0;bottom: 0;left: 50%;z-index: 0;}#sk-container-id-2 div.sk-serial {display: flex;flex-direction: column;align-items: center;background-color: white;padding-right: 0.2em;padding-left: 0.2em;position: relative;}#sk-container-id-2 div.sk-item {position: relative;z-index: 1;}#sk-container-id-2 div.sk-parallel {display: flex;align-items: stretch;justify-content: center;background-color: white;position: relative;}#sk-container-id-2 div.sk-item::before, #sk-container-id-2 div.sk-parallel-item::before {content: \"\";position: absolute;border-left: 1px solid gray;box-sizing: border-box;top: 0;bottom: 0;left: 50%;z-index: -1;}#sk-container-id-2 div.sk-parallel-item {display: flex;flex-direction: column;z-index: 1;position: relative;background-color: white;}#sk-container-id-2 div.sk-parallel-item:first-child::after {align-self: flex-end;width: 50%;}#sk-container-id-2 div.sk-parallel-item:last-child::after {align-self: flex-start;width: 50%;}#sk-container-id-2 div.sk-parallel-item:only-child::after {width: 0;}#sk-container-id-2 div.sk-dashed-wrapped {border: 1px dashed gray;margin: 0 0.4em 0.5em 0.4em;box-sizing: border-box;padding-bottom: 0.4em;background-color: white;}#sk-container-id-2 div.sk-label label {font-family: monospace;font-weight: bold;display: inline-block;line-height: 1.2em;}#sk-container-id-2 div.sk-label-container {text-align: center;}#sk-container-id-2 div.sk-container {/* jupyter's `normalize.less` sets `[hidden] { display: none; }` but bootstrap.min.css set `[hidden] { display: none !important; }` so we also need the `!important` here to be able to override the default hidden behavior on the sphinx rendered scikit-learn.org. See: https://github.com/scikit-learn/scikit-learn/issues/21755 */display: inline-block !important;position: relative;}#sk-container-id-2 div.sk-text-repr-fallback {display: none;}</style><div id=\"sk-container-id-2\" class=\"sk-top-container\"><div class=\"sk-text-repr-fallback\"><pre>LogisticRegression()</pre><b>In a Jupyter environment, please rerun this cell to show the HTML representation or trust the notebook. <br />On GitHub, the HTML representation is unable to render, please try loading this page with nbviewer.org.</b></div><div class=\"sk-container\" hidden><div class=\"sk-item\"><div class=\"sk-estimator sk-toggleable\"><input class=\"sk-toggleable__control sk-hidden--visually\" id=\"sk-estimator-id-2\" type=\"checkbox\" checked><label for=\"sk-estimator-id-2\" class=\"sk-toggleable__label sk-toggleable__label-arrow\">LogisticRegression</label><div class=\"sk-toggleable__content\"><pre>LogisticRegression()</pre></div></div></div></div></div>"
      ],
      "text/plain": [
       "LogisticRegression()"
      ]
     },
     "execution_count": 68,
     "metadata": {},
     "output_type": "execute_result"
    }
   ],
   "source": [
    "# Train logistic regression model\n",
    "model = LogisticRegression()\n",
    "model.fit(X_train_tfidf, y_train)\n",
    "\n"
   ]
  },
  {
   "cell_type": "code",
   "execution_count": 69,
   "id": "7eaf169f-9cce-4e73-9082-21aac5a6cba0",
   "metadata": {
    "colab": {
     "base_uri": "https://localhost:8080/",
     "height": 53
    },
    "id": "7eaf169f-9cce-4e73-9082-21aac5a6cba0",
    "outputId": "3f259f01-04f1-4ed6-dc2d-e0c7082be0fa"
   },
   "outputs": [
    {
     "name": "stdout",
     "output_type": "stream",
     "text": [
      "The predicted class for the comment is: 0\n"
     ]
    },
    {
     "data": {
      "text/plain": [
       "\"['Click my link to win a prize'] is NOT A SPAM MESSAGE\""
      ]
     },
     "execution_count": 69,
     "metadata": {},
     "output_type": "execute_result"
    }
   ],
   "source": [
    "#model.predict(['Hello everyone'])\n",
    "\n",
    "# Example inputf\n",
    "new_comment = [\"Click my link to win a prize\"]\n",
    "\n",
    "# Step 1: Transform the input using the trained TF-IDF vectorizer\n",
    "new_comment_vectorized = vectorizer.transform(new_comment)  # Use the same TF-IDF vectorizer\n",
    "\n",
    "# Step 2: Make predictions using the vectorized input\n",
    "predicted_class = model.predict(new_comment_vectorized)\n",
    "\n",
    "# Step 3: Display the result\n",
    "print(f\"The predicted class for the comment is: {predicted_class[0]}\")\n",
    "\n",
    "def predict_class():\n",
    "  if predicted_class[0] == 0:\n",
    "    return f\"{new_comment} is NOT A SPAM MESSAGE\"\n",
    "  else:\n",
    "    return f\"{new_comment} IS A SPAM MESSAGE\"\n",
    "predict_class()"
   ]
  },
  {
   "cell_type": "code",
   "execution_count": 70,
   "id": "c8c2eca4-1e65-451f-92c1-cfb1f2e6fd61",
   "metadata": {
    "colab": {
     "base_uri": "https://localhost:8080/"
    },
    "id": "c8c2eca4-1e65-451f-92c1-cfb1f2e6fd61",
    "outputId": "59090d86-b3d3-44e3-f011-8e1f8af66809"
   },
   "outputs": [
    {
     "name": "stdout",
     "output_type": "stream",
     "text": [
      "Accuracy: 0.9489795918367347\n",
      "Confusion Matrix:\n",
      " [[168   8]\n",
      " [ 12 204]]\n",
      "Classification Report:\n",
      "               precision    recall  f1-score   support\n",
      "\n",
      "           0       0.93      0.95      0.94       176\n",
      "           1       0.96      0.94      0.95       216\n",
      "\n",
      "    accuracy                           0.95       392\n",
      "   macro avg       0.95      0.95      0.95       392\n",
      "weighted avg       0.95      0.95      0.95       392\n",
      "\n"
     ]
    }
   ],
   "source": [
    "# Evaluate the model\n",
    "y_pred = model.predict(X_test_tfidf)\n",
    "print(\"Accuracy:\", accuracy_score(y_test, y_pred))\n",
    "print(\"Confusion Matrix:\\n\", confusion_matrix(y_test, y_pred))\n",
    "print(\"Classification Report:\\n\", classification_report(y_test, y_pred))\n",
    "\n"
   ]
  },
  {
   "cell_type": "code",
   "execution_count": 71,
   "id": "78f8aaec-fc38-4601-a1fb-f14fa1b527a8",
   "metadata": {
    "colab": {
     "base_uri": "https://localhost:8080/",
     "height": 424
    },
    "id": "78f8aaec-fc38-4601-a1fb-f14fa1b527a8",
    "outputId": "d328d98a-0442-40e9-dc8a-d93bb2ed5aca"
   },
   "outputs": [
    {
     "data": {
      "text/html": [
       "<div>\n",
       "<style scoped>\n",
       "    .dataframe tbody tr th:only-of-type {\n",
       "        vertical-align: middle;\n",
       "    }\n",
       "\n",
       "    .dataframe tbody tr th {\n",
       "        vertical-align: top;\n",
       "    }\n",
       "\n",
       "    .dataframe thead th {\n",
       "        text-align: right;\n",
       "    }\n",
       "</style>\n",
       "<table border=\"1\" class=\"dataframe\">\n",
       "  <thead>\n",
       "    <tr style=\"text-align: right;\">\n",
       "      <th></th>\n",
       "      <th>CONTENT</th>\n",
       "      <th>CLASS</th>\n",
       "    </tr>\n",
       "  </thead>\n",
       "  <tbody>\n",
       "    <tr>\n",
       "      <th>0</th>\n",
       "      <td>Huh, anyway check out this you[tube] channel: ...</td>\n",
       "      <td>1</td>\n",
       "    </tr>\n",
       "    <tr>\n",
       "      <th>1</th>\n",
       "      <td>Hey guys check out my new channel and our firs...</td>\n",
       "      <td>1</td>\n",
       "    </tr>\n",
       "    <tr>\n",
       "      <th>2</th>\n",
       "      <td>just for test I have to say murdev.com</td>\n",
       "      <td>1</td>\n",
       "    </tr>\n",
       "    <tr>\n",
       "      <th>3</th>\n",
       "      <td>me shaking my sexy ass on my channel enjoy ^_^ ﻿</td>\n",
       "      <td>1</td>\n",
       "    </tr>\n",
       "    <tr>\n",
       "      <th>4</th>\n",
       "      <td>watch?v=vtaRGgvGtWQ   Check this out .﻿</td>\n",
       "      <td>1</td>\n",
       "    </tr>\n",
       "    <tr>\n",
       "      <th>...</th>\n",
       "      <td>...</td>\n",
       "      <td>...</td>\n",
       "    </tr>\n",
       "    <tr>\n",
       "      <th>1951</th>\n",
       "      <td>I love this song because we sing it at Camp al...</td>\n",
       "      <td>0</td>\n",
       "    </tr>\n",
       "    <tr>\n",
       "      <th>1952</th>\n",
       "      <td>I love this song for two reasons: 1.it is abou...</td>\n",
       "      <td>0</td>\n",
       "    </tr>\n",
       "    <tr>\n",
       "      <th>1953</th>\n",
       "      <td>wow</td>\n",
       "      <td>0</td>\n",
       "    </tr>\n",
       "    <tr>\n",
       "      <th>1954</th>\n",
       "      <td>Shakira u are so wiredo</td>\n",
       "      <td>0</td>\n",
       "    </tr>\n",
       "    <tr>\n",
       "      <th>1955</th>\n",
       "      <td>Shakira is the best dancer</td>\n",
       "      <td>0</td>\n",
       "    </tr>\n",
       "  </tbody>\n",
       "</table>\n",
       "<p>1956 rows × 2 columns</p>\n",
       "</div>"
      ],
      "text/plain": [
       "                                                CONTENT  CLASS\n",
       "0     Huh, anyway check out this you[tube] channel: ...      1\n",
       "1     Hey guys check out my new channel and our firs...      1\n",
       "2                just for test I have to say murdev.com      1\n",
       "3      me shaking my sexy ass on my channel enjoy ^_^ ﻿      1\n",
       "4               watch?v=vtaRGgvGtWQ   Check this out .﻿      1\n",
       "...                                                 ...    ...\n",
       "1951  I love this song because we sing it at Camp al...      0\n",
       "1952  I love this song for two reasons: 1.it is abou...      0\n",
       "1953                                                wow      0\n",
       "1954                            Shakira u are so wiredo      0\n",
       "1955                         Shakira is the best dancer      0\n",
       "\n",
       "[1956 rows x 2 columns]"
      ]
     },
     "execution_count": 71,
     "metadata": {},
     "output_type": "execute_result"
    }
   ],
   "source": [
    "df[['CONTENT','CLASS']]"
   ]
  },
  {
   "cell_type": "code",
   "execution_count": 72,
   "id": "kP23vmx4bhLC",
   "metadata": {
    "colab": {
     "base_uri": "https://localhost:8080/",
     "height": 178
    },
    "id": "kP23vmx4bhLC",
    "outputId": "15cfcb30-7189-4c70-c55a-3d52223cbe5e"
   },
   "outputs": [
    {
     "data": {
      "text/plain": [
       "CLASS\n",
       "1        0.513804\n",
       "0        0.486196\n",
       "Name: proportion, dtype: float64"
      ]
     },
     "execution_count": 72,
     "metadata": {},
     "output_type": "execute_result"
    }
   ],
   "source": [
    "df[['CLASS']].value_counts(normalize = True)"
   ]
  },
  {
   "cell_type": "code",
   "execution_count": 73,
   "id": "31d2ddce-9fdd-4d0c-9a77-df7ea2371c2a",
   "metadata": {
    "colab": {
     "base_uri": "https://localhost:8080/",
     "height": 521
    },
    "id": "31d2ddce-9fdd-4d0c-9a77-df7ea2371c2a",
    "outputId": "0be55d16-4278-48c1-f9a9-28145861aa97"
   },
   "outputs": [
    {
     "data": {
      "image/png": "[encoded data removed]",
      "text/plain": [
       "<Figure size 600x600 with 1 Axes>"
      ]
     },
     "metadata": {},
     "output_type": "display_data"
    }
   ],
   "source": [
    "# Plot spam vs. non-spam distribution\n",
    "class_counts = df['CLASS'].value_counts()\n",
    "plt.figure(figsize=(6, 6))\n",
    "plt.pie(class_counts, labels=['Non-spam', 'Spam'], autopct='%1.1f%%', startangle=140, colors=['skyblue', 'orange'])\n",
    "plt.title('Overall Spam vs. Non-spam Distribution')\n",
    "plt.show()\n"
   ]
  },
  {
   "cell_type": "code",
   "execution_count": null,
   "id": "e7e6ff36-89d3-4d0b-bef5-6a33bff2214e",
   "metadata": {
    "id": "e7e6ff36-89d3-4d0b-bef5-6a33bff2214e"
   },
   "outputs": [],
   "source": []
  },
  {
   "cell_type": "code",
   "execution_count": null,
   "id": "4EfIlGVVkufW",
   "metadata": {
    "id": "4EfIlGVVkufW"
   },
   "outputs": [],
   "source": []
  },
  {
   "cell_type": "code",
   "execution_count": null,
   "id": "vRP4MmrlmN1-",
   "metadata": {
    "id": "vRP4MmrlmN1-"
   },
   "outputs": [],
   "source": []
  },
  {
   "cell_type": "code",
   "execution_count": null,
   "id": "Vv7q98KTmOUa",
   "metadata": {
    "id": "Vv7q98KTmOUa"
   },
   "outputs": [],
   "source": []
  },
  {
   "cell_type": "code",
   "execution_count": 74,
   "id": "fgak7L3rkuMu",
   "metadata": {
    "colab": {
     "base_uri": "https://localhost:8080/"
    },
    "id": "fgak7L3rkuMu",
    "outputId": "96c577b4-f885-447e-e4c9-b97186e10283"
   },
   "outputs": [
    {
     "name": "stdout",
     "output_type": "stream",
     "text": [
      "Model saved to youtubespam_model.joblib\n",
      "Vectorizer saved to youtubespam_vectorizer.joblib\n"
     ]
    }
   ],
   "source": [
    "import joblib\n",
    "\n",
    "# Save the model and vectorizer\n",
    "MODEL_PATH = \"youtubespam_model.joblib\"\n",
    "VECTORIZER_PATH = \"youtubespam_vectorizer.joblib\"\n",
    "\n",
    "joblib.dump(model, MODEL_PATH)\n",
    "joblib.dump(vectorizer, VECTORIZER_PATH)\n",
    "\n",
    "print(f\"Model saved to {MODEL_PATH}\")\n",
    "print(f\"Vectorizer saved to {VECTORIZER_PATH}\")\n"
   ]
  },
  {
   "cell_type": "code",
   "execution_count": null,
   "id": "2TxJC6yElWmB",
   "metadata": {
    "id": "2TxJC6yElWmB"
   },
   "outputs": [],
   "source": []
  },
  {
   "cell_type": "code",
   "execution_count": null,
   "id": "24e2d95a-a806-46f5-8d3f-c0a0ad7f13db",
   "metadata": {},
   "outputs": [],
   "source": []
  },
  {
   "cell_type": "code",
   "execution_count": null,
   "id": "70b38cb1-e44d-458a-9271-4c2af99a707c",
   "metadata": {},
   "outputs": [],
   "source": []
  },
  {
   "cell_type": "code",
   "execution_count": null,
   "id": "0ff6cd9e-b25c-4793-b129-1fc5bc6df446",
   "metadata": {},
   "outputs": [],
   "source": []
  },
  {
   "cell_type": "code",
   "execution_count": null,
   "id": "bf0bb487-d20b-4501-9e0e-7ac5df08cd62",
   "metadata": {},
   "outputs": [],
   "source": []
  },
  {
   "cell_type": "code",
   "execution_count": null,
   "id": "35d0a82c-44bc-40df-a2dc-a0938caab545",
   "metadata": {},
   "outputs": [],
   "source": []
  },
  {
   "cell_type": "code",
   "execution_count": null,
   "id": "8e05ab77-e86f-4151-972a-b7cd2f6f3b7d",
   "metadata": {},
   "outputs": [],
   "source": []
  },
  {
   "cell_type": "code",
   "execution_count": null,
   "id": "50d64aa0-e261-45fc-945d-53dfc011d536",
   "metadata": {},
   "outputs": [],
   "source": []
  },
  {
   "cell_type": "code",
   "execution_count": 107,
   "id": "4d04d68d-a11d-40fa-a1bd-6ea34495840e",
   "metadata": {},
   "outputs": [
    {
     "name": "stderr",
     "output_type": "stream",
     "text": [
      "[nltk_data] Downloading package punkt to /Users/joe/nltk_data...\n",
      "[nltk_data]   Package punkt is already up-to-date!\n",
      "[nltk_data] Downloading package stopwords to /Users/joe/nltk_data...\n",
      "[nltk_data]   Package stopwords is already up-to-date!\n",
      "[nltk_data] Downloading package wordnet to /Users/joe/nltk_data...\n",
      "[nltk_data]   Package wordnet is already up-to-date!\n"
     ]
    },
    {
     "name": "stdout",
     "output_type": "stream",
     "text": [
      "Random Forest:\n",
      "Accuracy: 0.9566326530612245\n",
      "Confusion Matrix:\n",
      " [[171   5]\n",
      " [ 12 204]]\n",
      "Classification Report:\n",
      "               precision    recall  f1-score   support\n",
      "\n",
      "           0       0.93      0.97      0.95       176\n",
      "           1       0.98      0.94      0.96       216\n",
      "\n",
      "    accuracy                           0.96       392\n",
      "   macro avg       0.96      0.96      0.96       392\n",
      "weighted avg       0.96      0.96      0.96       392\n",
      "\n",
      "\n",
      "Stacking Classifier:\n",
      "Accuracy: 0.9566326530612245\n",
      "Confusion Matrix:\n",
      " [[170   6]\n",
      " [ 11 205]]\n",
      "Classification Report:\n",
      "               precision    recall  f1-score   support\n",
      "\n",
      "           0       0.94      0.97      0.95       176\n",
      "           1       0.97      0.95      0.96       216\n",
      "\n",
      "    accuracy                           0.96       392\n",
      "   macro avg       0.96      0.96      0.96       392\n",
      "weighted avg       0.96      0.96      0.96       392\n",
      "\n",
      "\n",
      "Stacking Classifier Cross-Validation Scores: [0.97444089 0.96166134 0.96485623 0.96166134 0.97115385]\n",
      "Mean Cross-Validation Accuracy: 0.966754730892111\n"
     ]
    }
   ],
   "source": [
    "import pandas as pd\n",
    "from sklearn.feature_extraction.text import TfidfVectorizer\n",
    "from sklearn.model_selection import train_test_split, GridSearchCV, cross_val_score\n",
    "from sklearn.ensemble import RandomForestClassifier, StackingClassifier\n",
    "from sklearn.linear_model import LogisticRegression\n",
    "from sklearn.tree import DecisionTreeClassifier\n",
    "from sklearn.metrics import accuracy_score, confusion_matrix, classification_report\n",
    "from nltk.corpus import stopwords\n",
    "from nltk.tokenize import word_tokenize\n",
    "from nltk.stem import PorterStemmer, WordNetLemmatizer\n",
    "from scipy.sparse import hstack\n",
    "import matplotlib.pyplot as plt\n",
    "import nltk\n",
    "\n",
    "# Download NLTK data\n",
    "nltk.download('punkt')\n",
    "nltk.download('stopwords')\n",
    "nltk.download('wordnet')\n",
    "\n",
    "# Load dataset\n",
    "df = pd.read_csv('Youtube-Spam-Dataset.csv')\n",
    "df = df.drop(columns=['COMMENT_ID'])\n",
    "\n",
    "# Preprocess text\n",
    "def preprocess_text(text, use_stemming=True):\n",
    "    tokens = word_tokenize(text)\n",
    "    stop_words = set(stopwords.words('english'))\n",
    "    filtered_tokens = [word for word in tokens if word.lower() not in stop_words]\n",
    "\n",
    "    if use_stemming:\n",
    "        stemmer = PorterStemmer()\n",
    "        processed_tokens = [stemmer.stem(word) for word in filtered_tokens]\n",
    "    else:\n",
    "        lemmatizer = WordNetLemmatizer()\n",
    "        processed_tokens = [lemmatizer.lemmatize(word) for word in filtered_tokens]\n",
    "\n",
    "    return ' '.join(processed_tokens)\n",
    "\n",
    "df['PROCESSED_COMMENT'] = df['CONTENT'].apply(lambda x: preprocess_text(str(x)))\n",
    "\n",
    "# Feature Engineering\n",
    "df['comment_length'] = df['CONTENT'].apply(len)\n",
    "df['num_exclamation'] = df['CONTENT'].apply(lambda x: x.count('!'))\n",
    "df['num_uppercase'] = df['CONTENT'].apply(lambda x: sum(1 for c in x if c.isupper()))\n",
    "\n",
    "# Train-Test Split\n",
    "X = df[['PROCESSED_COMMENT', 'comment_length', 'num_exclamation', 'num_uppercase']]\n",
    "y = df['CLASS']\n",
    "X_train, X_test, y_train, y_test = train_test_split(X, y, test_size=0.2, random_state=42)\n",
    "\n",
    "# TF-IDF Vectorization\n",
    "vectorizer = TfidfVectorizer()\n",
    "X_train_tfidf = vectorizer.fit_transform(X_train['PROCESSED_COMMENT'])\n",
    "X_test_tfidf = vectorizer.transform(X_test['PROCESSED_COMMENT'])\n",
    "\n",
    "# Combine TF-IDF with additional features\n",
    "X_train_combined = hstack([X_train_tfidf, X_train[['comment_length', 'num_exclamation', 'num_uppercase']].values])\n",
    "X_test_combined = hstack([X_test_tfidf, X_test[['comment_length', 'num_exclamation', 'num_uppercase']].values])\n",
    "\n",
    "# Random Forest Classifier\n",
    "rf_model = RandomForestClassifier(random_state=42)\n",
    "rf_model.fit(X_train_combined, y_train)\n",
    "y_pred_rf = rf_model.predict(X_test_combined)\n",
    "\n",
    "print(\"Random Forest:\")\n",
    "print(\"Accuracy:\", accuracy_score(y_test, y_pred_rf))\n",
    "print(\"Confusion Matrix:\\n\", confusion_matrix(y_test, y_pred_rf))\n",
    "print(\"Classification Report:\\n\", classification_report(y_test, y_pred_rf))\n",
    "\n",
    "# Stacking Classifier\n",
    "estimators = [\n",
    "    ('rf', RandomForestClassifier(random_state=42)),\n",
    "    ('dt', DecisionTreeClassifier(random_state=42))\n",
    "]\n",
    "stacking_model = StackingClassifier(\n",
    "    estimators=estimators,\n",
    "    final_estimator=LogisticRegression()\n",
    ")\n",
    "stacking_model.fit(X_train_combined, y_train)\n",
    "y_pred_stack = stacking_model.predict(X_test_combined)\n",
    "\n",
    "print(\"\\nStacking Classifier:\")\n",
    "print(\"Accuracy:\", accuracy_score(y_test, y_pred_stack))\n",
    "print(\"Confusion Matrix:\\n\", confusion_matrix(y_test, y_pred_stack))\n",
    "print(\"Classification Report:\\n\", classification_report(y_test, y_pred_stack))\n",
    "\n",
    "# Cross-validation for Stacking Classifier\n",
    "stack_cv_scores = cross_val_score(stacking_model, X_train_combined, y_train, cv=5, scoring='accuracy')\n",
    "print(\"\\nStacking Classifier Cross-Validation Scores:\", stack_cv_scores)\n",
    "print(\"Mean Cross-Validation Accuracy:\", stack_cv_scores.mean())\n"
   ]
  },
  {
   "cell_type": "code",
   "execution_count": null,
   "id": "5a15cbab-c7c3-4f57-842d-17015ac8bedd",
   "metadata": {},
   "outputs": [],
   "source": []
  }
 ],
 "metadata": {
  "colab": {
   "provenance": []
  },
  "kernelspec": {
   "display_name": "Python 3 (ipykernel)",
   "language": "python",
   "name": "python3"
  },
  "language_info": {
   "codemirror_mode": {
    "name": "ipython",
    "version": 3
   },
   "file_extension": ".py",
   "mimetype": "text/x-python",
   "name": "python",
   "nbconvert_exporter": "python",
   "pygments_lexer": "ipython3",
   "version": "3.11.7"
  }
 },
 "nbformat": 4,
 "nbformat_minor": 5
}
